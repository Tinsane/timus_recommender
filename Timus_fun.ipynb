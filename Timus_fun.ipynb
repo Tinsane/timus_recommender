{
 "cells": [
  {
   "cell_type": "code",
   "execution_count": 1,
   "metadata": {},
   "outputs": [],
   "source": [
    "import pandas as pd"
   ]
  },
  {
   "cell_type": "code",
   "execution_count": 2,
   "metadata": {},
   "outputs": [],
   "source": [
    "submits = pd.read_csv('joined.csv')"
   ]
  },
  {
   "cell_type": "code",
   "execution_count": 3,
   "metadata": {},
   "outputs": [],
   "source": [
    "uniq_submits = submits.drop_duplicates(subset=('authorid', 'problemid'), keep='last')"
   ]
  },
  {
   "cell_type": "code",
   "execution_count": 4,
   "metadata": {},
   "outputs": [],
   "source": [
    "counts = uniq_submits.groupby('authorid').count()"
   ]
  },
  {
   "cell_type": "code",
   "execution_count": 5,
   "metadata": {},
   "outputs": [],
   "source": [
    "interesting_users = counts[counts.problemid > 20]"
   ]
  },
  {
   "cell_type": "code",
   "execution_count": 207,
   "metadata": {},
   "outputs": [],
   "source": [
    "int_users = set(interesting_users.index)"
   ]
  },
  {
   "cell_type": "code",
   "execution_count": 208,
   "metadata": {},
   "outputs": [
    {
     "data": {
      "text/plain": [
       "16956"
      ]
     },
     "execution_count": 208,
     "metadata": {},
     "output_type": "execute_result"
    }
   ],
   "source": [
    "len(int_users)"
   ]
  },
  {
   "cell_type": "code",
   "execution_count": 8,
   "metadata": {},
   "outputs": [],
   "source": [
    "int_submits_ind = uniq_submits.authorid.apply(lambda x: x in int_users)"
   ]
  },
  {
   "cell_type": "code",
   "execution_count": 9,
   "metadata": {},
   "outputs": [],
   "source": [
    "interesting_submits = uniq_submits[int_submits_ind.values]"
   ]
  },
  {
   "cell_type": "code",
   "execution_count": 189,
   "metadata": {},
   "outputs": [
    {
     "data": {
      "text/plain": [
       "submitid     1417691\n",
       "authorid     1417691\n",
       "problemid    1417691\n",
       "dtype: int64"
      ]
     },
     "execution_count": 189,
     "metadata": {},
     "output_type": "execute_result"
    }
   ],
   "source": [
    "interesting_submits.count()"
   ]
  },
  {
   "cell_type": "code",
   "execution_count": 196,
   "metadata": {},
   "outputs": [],
   "source": [
    "import numpy as np"
   ]
  },
  {
   "cell_type": "code",
   "execution_count": 230,
   "metadata": {},
   "outputs": [],
   "source": [
    "test_users = np.random.choice(list(int_users), size=(int(0.4 * len(int_users))), replace=False)"
   ]
  },
  {
   "cell_type": "code",
   "execution_count": 231,
   "metadata": {},
   "outputs": [
    {
     "data": {
      "text/plain": [
       "6782"
      ]
     },
     "execution_count": 231,
     "metadata": {},
     "output_type": "execute_result"
    }
   ],
   "source": [
    "len(test_users)"
   ]
  },
  {
   "cell_type": "code",
   "execution_count": 232,
   "metadata": {},
   "outputs": [],
   "source": [
    "test_subs_s = set()"
   ]
  },
  {
   "cell_type": "code",
   "execution_count": 233,
   "metadata": {},
   "outputs": [],
   "source": [
    "for user in test_users:\n",
    "  subs = interesting_submits[interesting_submits.authorid == user].head(10)\n",
    "  for sub in subs.submitid:\n",
    "    test_subs_s.add(sub)"
   ]
  },
  {
   "cell_type": "code",
   "execution_count": 234,
   "metadata": {},
   "outputs": [
    {
     "data": {
      "text/plain": [
       "67820"
      ]
     },
     "execution_count": 234,
     "metadata": {},
     "output_type": "execute_result"
    }
   ],
   "source": [
    "len(test_subs_s)"
   ]
  },
  {
   "cell_type": "code",
   "execution_count": 235,
   "metadata": {},
   "outputs": [],
   "source": [
    "test_subs = interesting_submits[interesting_submits.submitid.apply(lambda x: x in test_subs_s).values]"
   ]
  },
  {
   "cell_type": "code",
   "execution_count": 237,
   "metadata": {},
   "outputs": [],
   "source": [
    "train_subs = interesting_submits[interesting_submits.submitid.apply(lambda x: x not in test_subs_s).values]"
   ]
  },
  {
   "cell_type": "code",
   "execution_count": 30,
   "metadata": {},
   "outputs": [],
   "source": [
    "import turicreate as tc"
   ]
  },
  {
   "cell_type": "code",
   "execution_count": 31,
   "metadata": {},
   "outputs": [],
   "source": [
    "tc_data = tc.SFrame(interesting_submits)"
   ]
  },
  {
   "cell_type": "code",
   "execution_count": 239,
   "metadata": {},
   "outputs": [],
   "source": [
    "# tc_train, tc_test = tc.recommender.util.random_split_by_user(tc_data, user_id='authorid', item_id='problemid')\n",
    "tc_train = tc.SFrame(train_subs)\n",
    "tc_test = tc.SFrame(test_subs)"
   ]
  },
  {
   "cell_type": "code",
   "execution_count": 240,
   "metadata": {},
   "outputs": [
    {
     "data": {
      "text/html": [
       "<pre>Warning: Column 'submitid' ignored.</pre>"
      ],
      "text/plain": [
       "Warning: Column 'submitid' ignored."
      ]
     },
     "metadata": {},
     "output_type": "display_data"
    },
    {
     "data": {
      "text/html": [
       "<pre> To use one of these as a rating column, specify the column name to be used as target submitid\" and use a method that allows the use of a target.</pre>"
      ],
      "text/plain": [
       " To use one of these as a rating column, specify the column name to be used as target submitid\" and use a method that allows the use of a target."
      ]
     },
     "metadata": {},
     "output_type": "display_data"
    },
    {
     "data": {
      "text/html": [
       "<pre>Preparing data set.</pre>"
      ],
      "text/plain": [
       "Preparing data set."
      ]
     },
     "metadata": {},
     "output_type": "display_data"
    },
    {
     "data": {
      "text/html": [
       "<pre>    Data has 1349871 observations with 16956 users and 1148 items.</pre>"
      ],
      "text/plain": [
       "    Data has 1349871 observations with 16956 users and 1148 items."
      ]
     },
     "metadata": {},
     "output_type": "display_data"
    },
    {
     "data": {
      "text/html": [
       "<pre>    Data prepared in: 0.517759s</pre>"
      ],
      "text/plain": [
       "    Data prepared in: 0.517759s"
      ]
     },
     "metadata": {},
     "output_type": "display_data"
    },
    {
     "data": {
      "text/html": [
       "<pre>Training model from provided data.</pre>"
      ],
      "text/plain": [
       "Training model from provided data."
      ]
     },
     "metadata": {},
     "output_type": "display_data"
    },
    {
     "data": {
      "text/html": [
       "<pre>Gathering per-item and per-user statistics.</pre>"
      ],
      "text/plain": [
       "Gathering per-item and per-user statistics."
      ]
     },
     "metadata": {},
     "output_type": "display_data"
    },
    {
     "data": {
      "text/html": [
       "<pre>+--------------------------------+------------+</pre>"
      ],
      "text/plain": [
       "+--------------------------------+------------+"
      ]
     },
     "metadata": {},
     "output_type": "display_data"
    },
    {
     "data": {
      "text/html": [
       "<pre>| Elapsed Time (Item Statistics) | % Complete |</pre>"
      ],
      "text/plain": [
       "| Elapsed Time (Item Statistics) | % Complete |"
      ]
     },
     "metadata": {},
     "output_type": "display_data"
    },
    {
     "data": {
      "text/html": [
       "<pre>+--------------------------------+------------+</pre>"
      ],
      "text/plain": [
       "+--------------------------------+------------+"
      ]
     },
     "metadata": {},
     "output_type": "display_data"
    },
    {
     "data": {
      "text/html": [
       "<pre>| 8.639ms                        | 5.75       |</pre>"
      ],
      "text/plain": [
       "| 8.639ms                        | 5.75       |"
      ]
     },
     "metadata": {},
     "output_type": "display_data"
    },
    {
     "data": {
      "text/html": [
       "<pre>| 34.813ms                       | 100        |</pre>"
      ],
      "text/plain": [
       "| 34.813ms                       | 100        |"
      ]
     },
     "metadata": {},
     "output_type": "display_data"
    },
    {
     "data": {
      "text/html": [
       "<pre>+--------------------------------+------------+</pre>"
      ],
      "text/plain": [
       "+--------------------------------+------------+"
      ]
     },
     "metadata": {},
     "output_type": "display_data"
    },
    {
     "data": {
      "text/html": [
       "<pre>Setting up lookup tables.</pre>"
      ],
      "text/plain": [
       "Setting up lookup tables."
      ]
     },
     "metadata": {},
     "output_type": "display_data"
    },
    {
     "data": {
      "text/html": [
       "<pre>Processing data in one pass using dense lookup tables.</pre>"
      ],
      "text/plain": [
       "Processing data in one pass using dense lookup tables."
      ]
     },
     "metadata": {},
     "output_type": "display_data"
    },
    {
     "data": {
      "text/html": [
       "<pre>+-------------------------------------+------------------+-----------------+</pre>"
      ],
      "text/plain": [
       "+-------------------------------------+------------------+-----------------+"
      ]
     },
     "metadata": {},
     "output_type": "display_data"
    },
    {
     "data": {
      "text/html": [
       "<pre>| Elapsed Time (Constructing Lookups) | Total % Complete | Items Processed |</pre>"
      ],
      "text/plain": [
       "| Elapsed Time (Constructing Lookups) | Total % Complete | Items Processed |"
      ]
     },
     "metadata": {},
     "output_type": "display_data"
    },
    {
     "data": {
      "text/html": [
       "<pre>+-------------------------------------+------------------+-----------------+</pre>"
      ],
      "text/plain": [
       "+-------------------------------------+------------------+-----------------+"
      ]
     },
     "metadata": {},
     "output_type": "display_data"
    },
    {
     "data": {
      "text/html": [
       "<pre>| 38.006ms                            | 0                | 0               |</pre>"
      ],
      "text/plain": [
       "| 38.006ms                            | 0                | 0               |"
      ]
     },
     "metadata": {},
     "output_type": "display_data"
    },
    {
     "data": {
      "text/html": [
       "<pre>| 269.74ms                            | 100              | 1148            |</pre>"
      ],
      "text/plain": [
       "| 269.74ms                            | 100              | 1148            |"
      ]
     },
     "metadata": {},
     "output_type": "display_data"
    },
    {
     "data": {
      "text/html": [
       "<pre>+-------------------------------------+------------------+-----------------+</pre>"
      ],
      "text/plain": [
       "+-------------------------------------+------------------+-----------------+"
      ]
     },
     "metadata": {},
     "output_type": "display_data"
    },
    {
     "data": {
      "text/html": [
       "<pre>Finalizing lookup tables.</pre>"
      ],
      "text/plain": [
       "Finalizing lookup tables."
      ]
     },
     "metadata": {},
     "output_type": "display_data"
    },
    {
     "data": {
      "text/html": [
       "<pre>Generating candidate set for working with new users.</pre>"
      ],
      "text/plain": [
       "Generating candidate set for working with new users."
      ]
     },
     "metadata": {},
     "output_type": "display_data"
    },
    {
     "data": {
      "text/html": [
       "<pre>Finished training in 0.336082s</pre>"
      ],
      "text/plain": [
       "Finished training in 0.336082s"
      ]
     },
     "metadata": {},
     "output_type": "display_data"
    }
   ],
   "source": [
    "model = tc.item_similarity_recommender.create(tc_train, user_id='authorid', item_id='problemid', item_data=tc.SFrame(complexities))"
   ]
  },
  {
   "cell_type": "code",
   "execution_count": 241,
   "metadata": {},
   "outputs": [
    {
     "data": {
      "text/html": [
       "<pre>recommendations finished on 1000/6782 queries. users per second: 101368</pre>"
      ],
      "text/plain": [
       "recommendations finished on 1000/6782 queries. users per second: 101368"
      ]
     },
     "metadata": {},
     "output_type": "display_data"
    },
    {
     "data": {
      "text/html": [
       "<pre>recommendations finished on 2000/6782 queries. users per second: 120286</pre>"
      ],
      "text/plain": [
       "recommendations finished on 2000/6782 queries. users per second: 120286"
      ]
     },
     "metadata": {},
     "output_type": "display_data"
    },
    {
     "data": {
      "text/html": [
       "<pre>recommendations finished on 3000/6782 queries. users per second: 132100</pre>"
      ],
      "text/plain": [
       "recommendations finished on 3000/6782 queries. users per second: 132100"
      ]
     },
     "metadata": {},
     "output_type": "display_data"
    },
    {
     "data": {
      "text/html": [
       "<pre>recommendations finished on 4000/6782 queries. users per second: 138461</pre>"
      ],
      "text/plain": [
       "recommendations finished on 4000/6782 queries. users per second: 138461"
      ]
     },
     "metadata": {},
     "output_type": "display_data"
    },
    {
     "data": {
      "text/html": [
       "<pre>recommendations finished on 5000/6782 queries. users per second: 142264</pre>"
      ],
      "text/plain": [
       "recommendations finished on 5000/6782 queries. users per second: 142264"
      ]
     },
     "metadata": {},
     "output_type": "display_data"
    },
    {
     "data": {
      "text/html": [
       "<pre>recommendations finished on 6000/6782 queries. users per second: 145691</pre>"
      ],
      "text/plain": [
       "recommendations finished on 6000/6782 queries. users per second: 145691"
      ]
     },
     "metadata": {},
     "output_type": "display_data"
    },
    {
     "name": "stdout",
     "output_type": "stream",
     "text": [
      "\n",
      "Precision and recall summary statistics by cutoff\n"
     ]
    },
    {
     "name": "stderr",
     "output_type": "stream",
     "text": [
      "WARNING:root:Model trained without a target. Skipping RMSE computation.\n"
     ]
    },
    {
     "name": "stdout",
     "output_type": "stream",
     "text": [
      "+--------+---------------------+----------------------+\n",
      "| cutoff |    mean_precision   |     mean_recall      |\n",
      "+--------+---------------------+----------------------+\n",
      "|   1    |  0.280153347095252  | 0.028015334709525087 |\n",
      "|   2    | 0.27219109407254505 | 0.05443821881450896  |\n",
      "|   3    |  0.2589698220780493 | 0.07769094662341483  |\n",
      "|   4    |  0.2504423473901503 | 0.10017693895606015  |\n",
      "|   5    |  0.2432025951046888 |  0.1216012975523444  |\n",
      "|   6    | 0.23616435663029592 |  0.1416986139781778  |\n",
      "|   7    | 0.22865147238488448 | 0.16005603066941906  |\n",
      "|   8    |  0.220749778826305  |  0.1765998230610441  |\n",
      "|   9    |  0.2149972148497656 |  0.1934974933647891  |\n",
      "|   10   | 0.20980536714833398 | 0.20980536714833398  |\n",
      "+--------+---------------------+----------------------+\n",
      "[10 rows x 3 columns]\n",
      "\n"
     ]
    },
    {
     "data": {
      "text/plain": [
       "{'precision_recall_by_user': Columns:\n",
       " \tauthorid\tint\n",
       " \tcutoff\tint\n",
       " \tprecision\tfloat\n",
       " \trecall\tfloat\n",
       " \tcount\tint\n",
       " \n",
       " Rows: 122076\n",
       " \n",
       " Data:\n",
       " +----------+--------+---------------------+--------+-------+\n",
       " | authorid | cutoff |      precision      | recall | count |\n",
       " +----------+--------+---------------------+--------+-------+\n",
       " |  287903  |   1    |         0.0         |  0.0   |   10  |\n",
       " |  287903  |   2    |         0.5         |  0.1   |   10  |\n",
       " |  287903  |   3    |  0.3333333333333333 |  0.1   |   10  |\n",
       " |  287903  |   4    |         0.25        |  0.1   |   10  |\n",
       " |  287903  |   5    |         0.2         |  0.1   |   10  |\n",
       " |  287903  |   6    | 0.16666666666666666 |  0.1   |   10  |\n",
       " |  287903  |   7    | 0.14285714285714285 |  0.1   |   10  |\n",
       " |  287903  |   8    |         0.25        |  0.2   |   10  |\n",
       " |  287903  |   9    |  0.2222222222222222 |  0.2   |   10  |\n",
       " |  287903  |   10   |         0.2         |  0.2   |   10  |\n",
       " +----------+--------+---------------------+--------+-------+\n",
       " [122076 rows x 5 columns]\n",
       " Note: Only the head of the SFrame is printed.\n",
       " You can use print_rows(num_rows=m, num_columns=n) to print more rows and columns.,\n",
       " 'precision_recall_overall': Columns:\n",
       " \tcutoff\tint\n",
       " \tprecision\tfloat\n",
       " \trecall\tfloat\n",
       " \n",
       " Rows: 18\n",
       " \n",
       " Data:\n",
       " +--------+---------------------+----------------------+\n",
       " | cutoff |      precision      |        recall        |\n",
       " +--------+---------------------+----------------------+\n",
       " |   1    | 0.28015334709525197 | 0.028015334709525077 |\n",
       " |   2    | 0.27219109407254527 | 0.05443821881450898  |\n",
       " |   3    | 0.25896982207804925 | 0.07769094662341508  |\n",
       " |   4    | 0.25044234739015075 | 0.10017693895606018  |\n",
       " |   5    | 0.24320259510468945 | 0.12160129755234472  |\n",
       " |   6    |  0.236164356630296  | 0.14169861397817773  |\n",
       " |   7    | 0.22865147238488417 |  0.1600560306694195  |\n",
       " |   8    | 0.22074977882630492 | 0.17659982306104408  |\n",
       " |   9    | 0.21499721484976578 | 0.19349749336478939  |\n",
       " |   10   |  0.2098053671483339 |  0.2098053671483339  |\n",
       " +--------+---------------------+----------------------+\n",
       " [18 rows x 3 columns]\n",
       " Note: Only the head of the SFrame is printed.\n",
       " You can use print_rows(num_rows=m, num_columns=n) to print more rows and columns.}"
      ]
     },
     "execution_count": 241,
     "metadata": {},
     "output_type": "execute_result"
    }
   ],
   "source": [
    "model.evaluate(tc_test)"
   ]
  },
  {
   "cell_type": "code",
   "execution_count": 277,
   "metadata": {},
   "outputs": [
    {
     "data": {
      "text/plain": [
       "\u001b[0;31mSignature:\u001b[0m\n",
       "\u001b[0mtc\u001b[0m\u001b[0;34m.\u001b[0m\u001b[0mranking_factorization_recommender\u001b[0m\u001b[0;34m.\u001b[0m\u001b[0mcreate\u001b[0m\u001b[0;34m(\u001b[0m\u001b[0;34m\u001b[0m\n",
       "\u001b[0;34m\u001b[0m    \u001b[0mobservation_data\u001b[0m\u001b[0;34m,\u001b[0m\u001b[0;34m\u001b[0m\n",
       "\u001b[0;34m\u001b[0m    \u001b[0muser_id\u001b[0m\u001b[0;34m=\u001b[0m\u001b[0;34m'user_id'\u001b[0m\u001b[0;34m,\u001b[0m\u001b[0;34m\u001b[0m\n",
       "\u001b[0;34m\u001b[0m    \u001b[0mitem_id\u001b[0m\u001b[0;34m=\u001b[0m\u001b[0;34m'item_id'\u001b[0m\u001b[0;34m,\u001b[0m\u001b[0;34m\u001b[0m\n",
       "\u001b[0;34m\u001b[0m    \u001b[0mtarget\u001b[0m\u001b[0;34m=\u001b[0m\u001b[0;32mNone\u001b[0m\u001b[0;34m,\u001b[0m\u001b[0;34m\u001b[0m\n",
       "\u001b[0;34m\u001b[0m    \u001b[0muser_data\u001b[0m\u001b[0;34m=\u001b[0m\u001b[0;32mNone\u001b[0m\u001b[0;34m,\u001b[0m\u001b[0;34m\u001b[0m\n",
       "\u001b[0;34m\u001b[0m    \u001b[0mitem_data\u001b[0m\u001b[0;34m=\u001b[0m\u001b[0;32mNone\u001b[0m\u001b[0;34m,\u001b[0m\u001b[0;34m\u001b[0m\n",
       "\u001b[0;34m\u001b[0m    \u001b[0mnum_factors\u001b[0m\u001b[0;34m=\u001b[0m\u001b[0;36m32\u001b[0m\u001b[0;34m,\u001b[0m\u001b[0;34m\u001b[0m\n",
       "\u001b[0;34m\u001b[0m    \u001b[0mregularization\u001b[0m\u001b[0;34m=\u001b[0m\u001b[0;36m1e-09\u001b[0m\u001b[0;34m,\u001b[0m\u001b[0;34m\u001b[0m\n",
       "\u001b[0;34m\u001b[0m    \u001b[0mlinear_regularization\u001b[0m\u001b[0;34m=\u001b[0m\u001b[0;36m1e-09\u001b[0m\u001b[0;34m,\u001b[0m\u001b[0;34m\u001b[0m\n",
       "\u001b[0;34m\u001b[0m    \u001b[0mside_data_factorization\u001b[0m\u001b[0;34m=\u001b[0m\u001b[0;32mTrue\u001b[0m\u001b[0;34m,\u001b[0m\u001b[0;34m\u001b[0m\n",
       "\u001b[0;34m\u001b[0m    \u001b[0mranking_regularization\u001b[0m\u001b[0;34m=\u001b[0m\u001b[0;36m0.25\u001b[0m\u001b[0;34m,\u001b[0m\u001b[0;34m\u001b[0m\n",
       "\u001b[0;34m\u001b[0m    \u001b[0munobserved_rating_value\u001b[0m\u001b[0;34m=\u001b[0m\u001b[0;32mNone\u001b[0m\u001b[0;34m,\u001b[0m\u001b[0;34m\u001b[0m\n",
       "\u001b[0;34m\u001b[0m    \u001b[0mnum_sampled_negative_examples\u001b[0m\u001b[0;34m=\u001b[0m\u001b[0;36m4\u001b[0m\u001b[0;34m,\u001b[0m\u001b[0;34m\u001b[0m\n",
       "\u001b[0;34m\u001b[0m    \u001b[0mmax_iterations\u001b[0m\u001b[0;34m=\u001b[0m\u001b[0;36m25\u001b[0m\u001b[0;34m,\u001b[0m\u001b[0;34m\u001b[0m\n",
       "\u001b[0;34m\u001b[0m    \u001b[0msgd_step_size\u001b[0m\u001b[0;34m=\u001b[0m\u001b[0;36m0\u001b[0m\u001b[0;34m,\u001b[0m\u001b[0;34m\u001b[0m\n",
       "\u001b[0;34m\u001b[0m    \u001b[0mrandom_seed\u001b[0m\u001b[0;34m=\u001b[0m\u001b[0;36m0\u001b[0m\u001b[0;34m,\u001b[0m\u001b[0;34m\u001b[0m\n",
       "\u001b[0;34m\u001b[0m    \u001b[0mbinary_target\u001b[0m\u001b[0;34m=\u001b[0m\u001b[0;32mFalse\u001b[0m\u001b[0;34m,\u001b[0m\u001b[0;34m\u001b[0m\n",
       "\u001b[0;34m\u001b[0m    \u001b[0msolver\u001b[0m\u001b[0;34m=\u001b[0m\u001b[0;34m'auto'\u001b[0m\u001b[0;34m,\u001b[0m\u001b[0;34m\u001b[0m\n",
       "\u001b[0;34m\u001b[0m    \u001b[0mverbose\u001b[0m\u001b[0;34m=\u001b[0m\u001b[0;32mTrue\u001b[0m\u001b[0;34m,\u001b[0m\u001b[0;34m\u001b[0m\n",
       "\u001b[0;34m\u001b[0m    \u001b[0;34m**\u001b[0m\u001b[0mkwargs\u001b[0m\u001b[0;34m,\u001b[0m\u001b[0;34m\u001b[0m\n",
       "\u001b[0;34m\u001b[0m\u001b[0;34m)\u001b[0m\u001b[0;34m\u001b[0m\u001b[0;34m\u001b[0m\u001b[0m\n",
       "\u001b[0;31mDocstring:\u001b[0m\n",
       "Create a RankingFactorizationRecommender that learns latent factors for each\n",
       "user and item and uses them to make rating predictions.\n",
       "\n",
       "Parameters\n",
       "----------\n",
       "observation_data : SFrame\n",
       "    The dataset to use for training the model. It must contain a column of\n",
       "    user ids and a column of item ids. Each row represents an observed\n",
       "    interaction between the user and the item.  The (user, item) pairs\n",
       "    are stored with the model so that they can later be excluded from\n",
       "    recommendations if desired. It can optionally contain a target ratings\n",
       "    column. All other columns are interpreted by the underlying model as\n",
       "    side features for the observations.\n",
       "\n",
       "    The user id and item id columns must be of type 'int' or 'str'. The\n",
       "    target column must be of type 'int' or 'float'.\n",
       "\n",
       "user_id : string, optional\n",
       "    The name of the column in `observation_data` that corresponds to the\n",
       "    user id.\n",
       "\n",
       "item_id : string, optional\n",
       "    The name of the column in `observation_data` that corresponds to the\n",
       "    item id.\n",
       "\n",
       "target : string, optional\n",
       "    The `observation_data` can optionally contain a column of scores\n",
       "    representing ratings given by the users. If present, the name of this\n",
       "    column may be specified variables `target`.\n",
       "\n",
       "user_data : SFrame, optional\n",
       "    Side information for the users.  This SFrame must have a column with\n",
       "    the same name as what is specified by the `user_id` input parameter.\n",
       "    `user_data` can provide any amount of additional user-specific\n",
       "    information.\n",
       "\n",
       "item_data : SFrame, optional\n",
       "    Side information for the items.  This SFrame must have a column with\n",
       "    the same name as what is specified by the `item_id` input parameter.\n",
       "    `item_data` can provide any amount of additional item-specific\n",
       "    information.\n",
       "\n",
       "num_factors : int, optional\n",
       "    Number of latent factors.\n",
       "\n",
       "regularization : float, optional\n",
       "    L2 regularization for interaction terms. Default: 1e-10; a typical range\n",
       "    for this parameter is between 1e-12 and 1. Setting this to 0 may cause\n",
       "    numerical issues.\n",
       "\n",
       "linear_regularization : float, optional\n",
       "    L2 regularization for linear term. Default: 1e-10; a typical range for this\n",
       "    parameter is between 1e-12 and 1. Setting this to 0 may cause numerical issues.\n",
       "\n",
       "side_data_factorization : boolean, optional\n",
       "    Use factorization for modeling any additional features beyond the user\n",
       "    and item columns. If True, and side features or any additional columns are\n",
       "    present, then a Factorization Machine model is trained. Otherwise, only\n",
       "    the linear terms are fit to these features.  See\n",
       "    :class:`turicreate.recommender.ranking_factorization_recommender.RankingFactorizationRecommender`\n",
       "    for more information. Default: True.\n",
       "\n",
       "ranking_regularization : float, optional\n",
       "    Penalize the predicted value of user-item pairs not in the\n",
       "    training set. Larger values increase this penalization.\n",
       "    Suggested values: 0, 0.1, 0.5, 1.  NOTE: if no target column\n",
       "    is present, this parameter is ignored.\n",
       "\n",
       "unobserved_rating_value : float, optional\n",
       "    Penalize unobserved items with a larger predicted score than this value.\n",
       "    By default, the estimated 5% quantile is used (mean - 1.96*std_dev).\n",
       "\n",
       "num_sampled_negative_examples : integer, optional\n",
       "    For each (user, item) pair in the data, the ranking sgd solver evaluates\n",
       "    this many randomly chosen unseen items for the negative example step.\n",
       "    Increasing this can give better performance at the expense of speed,\n",
       "    particularly when the number of items is large.  Default is 4.\n",
       "\n",
       "binary_target : boolean, optional\n",
       "    Assume the target column is composed of 0's and 1's. If True, use\n",
       "    logistic loss to fit the model.\n",
       "\n",
       "max_iterations : int, optional\n",
       "    The training algorithm will make at most this many iterations through\n",
       "    the observed data. Default: 50.\n",
       "\n",
       "sgd_step_size : float, optional\n",
       "    Step size for stochastic gradient descent. Smaller values generally\n",
       "    lead to more accurate models that take more time to train. The\n",
       "    default setting of 0 means that the step size is chosen by trying\n",
       "    several options on a small subset of the data.\n",
       "\n",
       "random_seed :  int, optional\n",
       "    The random seed used to choose the initial starting point for\n",
       "    model training. Note that some randomness in the training is\n",
       "    unavoidable, so models trained with the same random seed may still\n",
       "    differ. Default: 0.\n",
       "\n",
       "solver : string, optional\n",
       "    Name of the solver to be used to solve the regression. See the\n",
       "    references for more detail on each solver. The available solvers for\n",
       "    this model are:\n",
       "\n",
       "    - *auto (default)*: automatically chooses the best solver for the data\n",
       "                          and model parameters.\n",
       "    - *ials*:           Implicit Alternating Least Squares [1].\n",
       "    - *adagrad*:        Adaptive Gradient Stochastic Gradient Descent.\n",
       "    - *sgd*:            Stochastic Gradient Descent\n",
       "\n",
       "verbose : bool, optional\n",
       "    Enables verbose output.\n",
       "\n",
       "kwargs : optional\n",
       "    Optional advanced keyword arguments passed in to the model\n",
       "    optimization procedure. These parameters do not typically\n",
       "    need to be changed.\n",
       "\n",
       "Examples\n",
       "--------\n",
       "**Basic usage**\n",
       "\n",
       "When given just user and item pairs, one can create a RankingFactorizationRecommender\n",
       "as follows.\n",
       "\n",
       ">>> sf = turicreate.SFrame({'user_id': [\"0\", \"0\", \"0\", \"1\", \"1\", \"2\", \"2\", \"2\"],\n",
       "...                       'item_id': [\"a\", \"b\", \"c\", \"a\", \"b\", \"b\", \"c\", \"d\"])\n",
       ">>> from turicreate.recommender import ranking_factorization_recommender\n",
       ">>> m1 = ranking_factorization_recommender.create(sf)\n",
       "\n",
       "When a target column is present, one can include this to try and recommend\n",
       "items that are rated highly.\n",
       "\n",
       ">>> sf = turicreate.SFrame({'user_id': [\"0\", \"0\", \"0\", \"1\", \"1\", \"2\", \"2\", \"2\"],\n",
       "...                       'item_id': [\"a\", \"b\", \"c\", \"a\", \"b\", \"b\", \"c\", \"d\"],\n",
       "...                       'rating': [1, 3, 2, 5, 4, 1, 4, 3]})\n",
       "\n",
       ">>> m1 = ranking_factorization_recommender.create(sf, target='rating')\n",
       "\n",
       "\n",
       "**Including side features**\n",
       "\n",
       ">>> user_info = turicreate.SFrame({'user_id': [\"0\", \"1\", \"2\"],\n",
       "...                              'name': [\"Alice\", \"Bob\", \"Charlie\"],\n",
       "...                              'numeric_feature': [0.1, 12, 22]})\n",
       ">>> item_info = turicreate.SFrame({'item_id': [\"a\", \"b\", \"c\", \"d\"],\n",
       "...                              'name': [\"item1\", \"item2\", \"item3\", \"item4\"],\n",
       "...                              'dict_feature': [{'a' : 23}, {'a' : 13},\n",
       "...                                               {'b' : 1},\n",
       "...                                               {'a' : 23, 'b' : 32}]})\n",
       ">>> m2 = ranking_factorization_recommender.create(sf, target='rating',\n",
       "...                                               user_data=user_info,\n",
       "...                                               item_data=item_info)\n",
       "\n",
       "**Customizing ranking regularization**\n",
       "\n",
       "Create a model that pushes predicted ratings of unobserved user-item\n",
       "pairs toward 1 or below.\n",
       "\n",
       ">>> m3 = ranking_factorization_recommender.create(sf, target='rating',\n",
       "...                                               ranking_regularization = 0.1,\n",
       "...                                               unobserved_rating_value = 1)\n",
       "\n",
       "**Using the implicit alternating least squares model**\n",
       "\n",
       "Ranking factorization also implements implicit alternating least squares [1] as\n",
       "an alternative solver.  This is enable using ``solver = 'ials'``.\n",
       "\n",
       ">>> m3 = ranking_factorization_recommender.create(sf, target='rating',\n",
       "                                                  solver = 'ials')\n",
       "\n",
       "See Also\n",
       "--------\n",
       ":class:`turicreate.recommender.factorization_recommender.FactorizationRecommender`,\n",
       ":class:`turicreate.recommender.ranking_factorization_recommender.RankingFactorizationRecommender`\n",
       "\n",
       "References\n",
       "-----------\n",
       "\n",
       "[1] Collaborative Filtering for Implicit Feedback Datasets Hu, Y.; Koren,\n",
       "    Y.; Volinsky, C. IEEE International Conference on Data Mining\n",
       "    (ICDM 2008), IEEE (2008).\n",
       "\u001b[0;31mFile:\u001b[0m      ~/.local/lib/python3.6/site-packages/turicreate/toolkits/recommender/ranking_factorization_recommender.py\n",
       "\u001b[0;31mType:\u001b[0m      function\n"
      ]
     },
     "metadata": {},
     "output_type": "display_data"
    }
   ],
   "source": [
    "tc.ranking_factorization_recommender.create?"
   ]
  },
  {
   "cell_type": "code",
   "execution_count": 311,
   "metadata": {},
   "outputs": [
    {
     "data": {
      "text/html": [
       "<pre>Preparing data set.</pre>"
      ],
      "text/plain": [
       "Preparing data set."
      ]
     },
     "metadata": {},
     "output_type": "display_data"
    },
    {
     "data": {
      "text/html": [
       "<pre>    Data has 1349871 observations with 16956 users and 1148 items.</pre>"
      ],
      "text/plain": [
       "    Data has 1349871 observations with 16956 users and 1148 items."
      ]
     },
     "metadata": {},
     "output_type": "display_data"
    },
    {
     "data": {
      "text/html": [
       "<pre>    Data prepared in: 0.544699s</pre>"
      ],
      "text/plain": [
       "    Data prepared in: 0.544699s"
      ]
     },
     "metadata": {},
     "output_type": "display_data"
    },
    {
     "data": {
      "text/html": [
       "<pre>Training ranking_factorization_recommender for recommendations.</pre>"
      ],
      "text/plain": [
       "Training ranking_factorization_recommender for recommendations."
      ]
     },
     "metadata": {},
     "output_type": "display_data"
    },
    {
     "data": {
      "text/html": [
       "<pre>+------------------------------+--------------------------------------------------+----------+</pre>"
      ],
      "text/plain": [
       "+------------------------------+--------------------------------------------------+----------+"
      ]
     },
     "metadata": {},
     "output_type": "display_data"
    },
    {
     "data": {
      "text/html": [
       "<pre>| Parameter                    | Description                                      | Value    |</pre>"
      ],
      "text/plain": [
       "| Parameter                    | Description                                      | Value    |"
      ]
     },
     "metadata": {},
     "output_type": "display_data"
    },
    {
     "data": {
      "text/html": [
       "<pre>+------------------------------+--------------------------------------------------+----------+</pre>"
      ],
      "text/plain": [
       "+------------------------------+--------------------------------------------------+----------+"
      ]
     },
     "metadata": {},
     "output_type": "display_data"
    },
    {
     "data": {
      "text/html": [
       "<pre>| num_factors                  | Factor Dimension                                 | 32       |</pre>"
      ],
      "text/plain": [
       "| num_factors                  | Factor Dimension                                 | 32       |"
      ]
     },
     "metadata": {},
     "output_type": "display_data"
    },
    {
     "data": {
      "text/html": [
       "<pre>| regularization               | L2 Regularization on Factors                     | 1e-09    |</pre>"
      ],
      "text/plain": [
       "| regularization               | L2 Regularization on Factors                     | 1e-09    |"
      ]
     },
     "metadata": {},
     "output_type": "display_data"
    },
    {
     "data": {
      "text/html": [
       "<pre>| max_iterations               | Maximum Number of Iterations                     | 25       |</pre>"
      ],
      "text/plain": [
       "| max_iterations               | Maximum Number of Iterations                     | 25       |"
      ]
     },
     "metadata": {},
     "output_type": "display_data"
    },
    {
     "data": {
      "text/html": [
       "<pre>| solver                       | Solver used for training                         | ials     |</pre>"
      ],
      "text/plain": [
       "| solver                       | Solver used for training                         | ials     |"
      ]
     },
     "metadata": {},
     "output_type": "display_data"
    },
    {
     "data": {
      "text/html": [
       "<pre>+------------------------------+--------------------------------------------------+----------+</pre>"
      ],
      "text/plain": [
       "+------------------------------+--------------------------------------------------+----------+"
      ]
     },
     "metadata": {},
     "output_type": "display_data"
    },
    {
     "data": {
      "text/html": [
       "<pre>+---------+--------------+---------------------------+</pre>"
      ],
      "text/plain": [
       "+---------+--------------+---------------------------+"
      ]
     },
     "metadata": {},
     "output_type": "display_data"
    },
    {
     "data": {
      "text/html": [
       "<pre>| Iter.   | Elapsed time | Estimated Objective Value |</pre>"
      ],
      "text/plain": [
       "| Iter.   | Elapsed time | Estimated Objective Value |"
      ]
     },
     "metadata": {},
     "output_type": "display_data"
    },
    {
     "data": {
      "text/html": [
       "<pre>+---------+--------------+---------------------------+</pre>"
      ],
      "text/plain": [
       "+---------+--------------+---------------------------+"
      ]
     },
     "metadata": {},
     "output_type": "display_data"
    },
    {
     "data": {
      "text/html": [
       "<pre>| Initial | 90us         | NA                        |</pre>"
      ],
      "text/plain": [
       "| Initial | 90us         | NA                        |"
      ]
     },
     "metadata": {},
     "output_type": "display_data"
    },
    {
     "data": {
      "text/html": [
       "<pre>+---------+--------------+---------------------------+</pre>"
      ],
      "text/plain": [
       "+---------+--------------+---------------------------+"
      ]
     },
     "metadata": {},
     "output_type": "display_data"
    },
    {
     "data": {
      "text/html": [
       "<pre>| 0       | 127.243ms    | 0.465336                  |</pre>"
      ],
      "text/plain": [
       "| 0       | 127.243ms    | 0.465336                  |"
      ]
     },
     "metadata": {},
     "output_type": "display_data"
    },
    {
     "data": {
      "text/html": [
       "<pre>| 1       | 248.097ms    | 0.368887                  |</pre>"
      ],
      "text/plain": [
       "| 1       | 248.097ms    | 0.368887                  |"
      ]
     },
     "metadata": {},
     "output_type": "display_data"
    },
    {
     "data": {
      "text/html": [
       "<pre>| 2       | 371.046ms    | 0.361381                  |</pre>"
      ],
      "text/plain": [
       "| 2       | 371.046ms    | 0.361381                  |"
      ]
     },
     "metadata": {},
     "output_type": "display_data"
    },
    {
     "data": {
      "text/html": [
       "<pre>| 3       | 494.245ms    | 0.359131                  |</pre>"
      ],
      "text/plain": [
       "| 3       | 494.245ms    | 0.359131                  |"
      ]
     },
     "metadata": {},
     "output_type": "display_data"
    },
    {
     "data": {
      "text/html": [
       "<pre>| 4       | 630.775ms    | 0.358172                  |</pre>"
      ],
      "text/plain": [
       "| 4       | 630.775ms    | 0.358172                  |"
      ]
     },
     "metadata": {},
     "output_type": "display_data"
    },
    {
     "data": {
      "text/html": [
       "<pre>| 5       | 755.633ms    | 0.357703                  |</pre>"
      ],
      "text/plain": [
       "| 5       | 755.633ms    | 0.357703                  |"
      ]
     },
     "metadata": {},
     "output_type": "display_data"
    },
    {
     "data": {
      "text/html": [
       "<pre>| 6       | 891.766ms    | 0.357452                  |</pre>"
      ],
      "text/plain": [
       "| 6       | 891.766ms    | 0.357452                  |"
      ]
     },
     "metadata": {},
     "output_type": "display_data"
    },
    {
     "data": {
      "text/html": [
       "<pre>| 7       | 1.01s        | 0.357306                  |</pre>"
      ],
      "text/plain": [
       "| 7       | 1.01s        | 0.357306                  |"
      ]
     },
     "metadata": {},
     "output_type": "display_data"
    },
    {
     "data": {
      "text/html": [
       "<pre>| 8       | 1.12s        | 0.357214                  |</pre>"
      ],
      "text/plain": [
       "| 8       | 1.12s        | 0.357214                  |"
      ]
     },
     "metadata": {},
     "output_type": "display_data"
    },
    {
     "data": {
      "text/html": [
       "<pre>| 9       | 1.25s        | 0.357153                  |</pre>"
      ],
      "text/plain": [
       "| 9       | 1.25s        | 0.357153                  |"
      ]
     },
     "metadata": {},
     "output_type": "display_data"
    },
    {
     "data": {
      "text/html": [
       "<pre>| 10      | 1.38s        | 0.357112                  |</pre>"
      ],
      "text/plain": [
       "| 10      | 1.38s        | 0.357112                  |"
      ]
     },
     "metadata": {},
     "output_type": "display_data"
    },
    {
     "data": {
      "text/html": [
       "<pre>| 11      | 1.51s        | 0.357083                  |</pre>"
      ],
      "text/plain": [
       "| 11      | 1.51s        | 0.357083                  |"
      ]
     },
     "metadata": {},
     "output_type": "display_data"
    },
    {
     "data": {
      "text/html": [
       "<pre>| 12      | 1.63s        | 0.357061                  |</pre>"
      ],
      "text/plain": [
       "| 12      | 1.63s        | 0.357061                  |"
      ]
     },
     "metadata": {},
     "output_type": "display_data"
    },
    {
     "data": {
      "text/html": [
       "<pre>| 13      | 1.76s        | 0.357045                  |</pre>"
      ],
      "text/plain": [
       "| 13      | 1.76s        | 0.357045                  |"
      ]
     },
     "metadata": {},
     "output_type": "display_data"
    },
    {
     "data": {
      "text/html": [
       "<pre>| 14      | 1.88s        | 0.357032                  |</pre>"
      ],
      "text/plain": [
       "| 14      | 1.88s        | 0.357032                  |"
      ]
     },
     "metadata": {},
     "output_type": "display_data"
    },
    {
     "data": {
      "text/html": [
       "<pre>| 15      | 2.01s        | 0.357023                  |</pre>"
      ],
      "text/plain": [
       "| 15      | 2.01s        | 0.357023                  |"
      ]
     },
     "metadata": {},
     "output_type": "display_data"
    },
    {
     "data": {
      "text/html": [
       "<pre>| 16      | 2.12s        | 0.357014                  |</pre>"
      ],
      "text/plain": [
       "| 16      | 2.12s        | 0.357014                  |"
      ]
     },
     "metadata": {},
     "output_type": "display_data"
    },
    {
     "data": {
      "text/html": [
       "<pre>| 17      | 2.25s        | 0.357008                  |</pre>"
      ],
      "text/plain": [
       "| 17      | 2.25s        | 0.357008                  |"
      ]
     },
     "metadata": {},
     "output_type": "display_data"
    },
    {
     "data": {
      "text/html": [
       "<pre>| 18      | 2.38s        | 0.357002                  |</pre>"
      ],
      "text/plain": [
       "| 18      | 2.38s        | 0.357002                  |"
      ]
     },
     "metadata": {},
     "output_type": "display_data"
    },
    {
     "data": {
      "text/html": [
       "<pre>| 19      | 2.52s        | 0.356996                  |</pre>"
      ],
      "text/plain": [
       "| 19      | 2.52s        | 0.356996                  |"
      ]
     },
     "metadata": {},
     "output_type": "display_data"
    },
    {
     "data": {
      "text/html": [
       "<pre>| 20      | 2.64s        | 0.356992                  |</pre>"
      ],
      "text/plain": [
       "| 20      | 2.64s        | 0.356992                  |"
      ]
     },
     "metadata": {},
     "output_type": "display_data"
    },
    {
     "data": {
      "text/html": [
       "<pre>| 21      | 2.76s        | 0.356988                  |</pre>"
      ],
      "text/plain": [
       "| 21      | 2.76s        | 0.356988                  |"
      ]
     },
     "metadata": {},
     "output_type": "display_data"
    },
    {
     "data": {
      "text/html": [
       "<pre>| 22      | 2.88s        | 0.356984                  |</pre>"
      ],
      "text/plain": [
       "| 22      | 2.88s        | 0.356984                  |"
      ]
     },
     "metadata": {},
     "output_type": "display_data"
    },
    {
     "data": {
      "text/html": [
       "<pre>| 23      | 3.00s        | 0.35698                   |</pre>"
      ],
      "text/plain": [
       "| 23      | 3.00s        | 0.35698                   |"
      ]
     },
     "metadata": {},
     "output_type": "display_data"
    },
    {
     "data": {
      "text/html": [
       "<pre>| 24      | 3.13s        | 0.356976                  |</pre>"
      ],
      "text/plain": [
       "| 24      | 3.13s        | 0.356976                  |"
      ]
     },
     "metadata": {},
     "output_type": "display_data"
    },
    {
     "data": {
      "text/html": [
       "<pre>| FINAL   | 3.13s        | 0.356976                  |</pre>"
      ],
      "text/plain": [
       "| FINAL   | 3.13s        | 0.356976                  |"
      ]
     },
     "metadata": {},
     "output_type": "display_data"
    },
    {
     "data": {
      "text/html": [
       "<pre>+---------+--------------+---------------------------+</pre>"
      ],
      "text/plain": [
       "+---------+--------------+---------------------------+"
      ]
     },
     "metadata": {},
     "output_type": "display_data"
    },
    {
     "data": {
      "text/html": [
       "<pre>Optimization Complete: Iteration limit reached.</pre>"
      ],
      "text/plain": [
       "Optimization Complete: Iteration limit reached."
      ]
     },
     "metadata": {},
     "output_type": "display_data"
    }
   ],
   "source": [
    "model2 = tc.ranking_factorization_recommender.create(\n",
    "  tc_train,\n",
    "  user_id='authorid',\n",
    "  item_id='problemid',\n",
    "  solver='ials',\n",
    "  linear_regularization=1,\n",
    "  binary_target=True)"
   ]
  },
  {
   "cell_type": "code",
   "execution_count": 312,
   "metadata": {},
   "outputs": [
    {
     "data": {
      "text/html": [
       "<pre>recommendations finished on 1000/6782 queries. users per second: 59530.9</pre>"
      ],
      "text/plain": [
       "recommendations finished on 1000/6782 queries. users per second: 59530.9"
      ]
     },
     "metadata": {},
     "output_type": "display_data"
    },
    {
     "data": {
      "text/html": [
       "<pre>recommendations finished on 2000/6782 queries. users per second: 90975.3</pre>"
      ],
      "text/plain": [
       "recommendations finished on 2000/6782 queries. users per second: 90975.3"
      ]
     },
     "metadata": {},
     "output_type": "display_data"
    },
    {
     "data": {
      "text/html": [
       "<pre>recommendations finished on 3000/6782 queries. users per second: 112880</pre>"
      ],
      "text/plain": [
       "recommendations finished on 3000/6782 queries. users per second: 112880"
      ]
     },
     "metadata": {},
     "output_type": "display_data"
    },
    {
     "data": {
      "text/html": [
       "<pre>recommendations finished on 4000/6782 queries. users per second: 127902</pre>"
      ],
      "text/plain": [
       "recommendations finished on 4000/6782 queries. users per second: 127902"
      ]
     },
     "metadata": {},
     "output_type": "display_data"
    },
    {
     "data": {
      "text/html": [
       "<pre>recommendations finished on 5000/6782 queries. users per second: 139938</pre>"
      ],
      "text/plain": [
       "recommendations finished on 5000/6782 queries. users per second: 139938"
      ]
     },
     "metadata": {},
     "output_type": "display_data"
    },
    {
     "data": {
      "text/html": [
       "<pre>recommendations finished on 6000/6782 queries. users per second: 148302</pre>"
      ],
      "text/plain": [
       "recommendations finished on 6000/6782 queries. users per second: 148302"
      ]
     },
     "metadata": {},
     "output_type": "display_data"
    },
    {
     "name": "stdout",
     "output_type": "stream",
     "text": [
      "\n",
      "Precision and recall summary statistics by cutoff\n"
     ]
    },
    {
     "name": "stderr",
     "output_type": "stream",
     "text": [
      "WARNING:root:Model trained without a target. Skipping RMSE computation.\n"
     ]
    },
    {
     "name": "stdout",
     "output_type": "stream",
     "text": [
      "+--------+---------------------+----------------------+\n",
      "| cutoff |    mean_precision   |     mean_recall      |\n",
      "+--------+---------------------+----------------------+\n",
      "|   1    | 0.28959009141846015 | 0.028959009141845966 |\n",
      "|   2    | 0.28472427012680646 | 0.05694485402536118  |\n",
      "|   3    |  0.2817261378157865 | 0.08451784134473608  |\n",
      "|   4    |  0.2770200530816859 | 0.11080802123267477  |\n",
      "|   5    | 0.27210262459451484 | 0.13605131229725742  |\n",
      "|   6    |  0.267079524230807  | 0.16024771453848424  |\n",
      "|   7    | 0.26155369254750005 | 0.18308758478325002  |\n",
      "|   8    |  0.2556399292244175 | 0.20451194337953402  |\n",
      "|   9    | 0.25056522166519196 | 0.22550869949867264  |\n",
      "|   10   | 0.24500147449130072 | 0.24500147449130072  |\n",
      "+--------+---------------------+----------------------+\n",
      "[10 rows x 3 columns]\n",
      "\n"
     ]
    },
    {
     "data": {
      "text/plain": [
       "{'precision_recall_by_user': Columns:\n",
       " \tauthorid\tint\n",
       " \tcutoff\tint\n",
       " \tprecision\tfloat\n",
       " \trecall\tfloat\n",
       " \tcount\tint\n",
       " \n",
       " Rows: 122076\n",
       " \n",
       " Data:\n",
       " +----------+--------+--------------------+--------+-------+\n",
       " | authorid | cutoff |     precision      | recall | count |\n",
       " +----------+--------+--------------------+--------+-------+\n",
       " |  287903  |   1    |        1.0         |  0.1   |   10  |\n",
       " |  287903  |   2    |        0.5         |  0.1   |   10  |\n",
       " |  287903  |   3    | 0.6666666666666666 |  0.2   |   10  |\n",
       " |  287903  |   4    |        0.5         |  0.2   |   10  |\n",
       " |  287903  |   5    |        0.4         |  0.2   |   10  |\n",
       " |  287903  |   6    | 0.3333333333333333 |  0.2   |   10  |\n",
       " |  287903  |   7    | 0.2857142857142857 |  0.2   |   10  |\n",
       " |  287903  |   8    |        0.25        |  0.2   |   10  |\n",
       " |  287903  |   9    | 0.3333333333333333 |  0.3   |   10  |\n",
       " |  287903  |   10   |        0.3         |  0.3   |   10  |\n",
       " +----------+--------+--------------------+--------+-------+\n",
       " [122076 rows x 5 columns]\n",
       " Note: Only the head of the SFrame is printed.\n",
       " You can use print_rows(num_rows=m, num_columns=n) to print more rows and columns.,\n",
       " 'precision_recall_overall': Columns:\n",
       " \tcutoff\tint\n",
       " \tprecision\tfloat\n",
       " \trecall\tfloat\n",
       " \n",
       " Rows: 18\n",
       " \n",
       " Data:\n",
       " +--------+---------------------+---------------------+\n",
       " | cutoff |      precision      |        recall       |\n",
       " +--------+---------------------+---------------------+\n",
       " |   1    | 0.28959009141846026 | 0.02895900914184592 |\n",
       " |   2    | 0.28472427012680623 | 0.05694485402536133 |\n",
       " |   3    | 0.28172613781578626 | 0.08451784134473589 |\n",
       " |   4    |  0.2770200530816864 | 0.11080802123267473 |\n",
       " |   5    |  0.2721026245945154 |  0.1360513122972577 |\n",
       " |   6    |  0.2670795242308074 | 0.16024771453848427 |\n",
       " |   7    | 0.26155369254749977 |  0.1830875847832498 |\n",
       " |   8    | 0.25563992922441736 | 0.20451194337953446 |\n",
       " |   9    |  0.2505652216651919 | 0.22550869949867292 |\n",
       " |   10   |  0.2450014744913005 |  0.2450014744913005 |\n",
       " +--------+---------------------+---------------------+\n",
       " [18 rows x 3 columns]\n",
       " Note: Only the head of the SFrame is printed.\n",
       " You can use print_rows(num_rows=m, num_columns=n) to print more rows and columns.}"
      ]
     },
     "execution_count": 312,
     "metadata": {},
     "output_type": "execute_result"
    }
   ],
   "source": [
    "model2.evaluate(tc_test)"
   ]
  },
  {
   "cell_type": "code",
   "execution_count": 13,
   "metadata": {},
   "outputs": [],
   "source": [
    "complexities = pd.read_csv('complexities.csv')"
   ]
  },
  {
   "cell_type": "code",
   "execution_count": 26,
   "metadata": {},
   "outputs": [],
   "source": [
    "complexities = complexities.sort_values(by='compexity', axis=0)"
   ]
  },
  {
   "cell_type": "code",
   "execution_count": 29,
   "metadata": {},
   "outputs": [],
   "source": [
    "complexities = complexities.rename(columns={'compexity': 'complexity'})"
   ]
  },
  {
   "cell_type": "code",
   "execution_count": 49,
   "metadata": {},
   "outputs": [],
   "source": [
    "compls = complexities.set_index('problemid')"
   ]
  },
  {
   "cell_type": "code",
   "execution_count": 70,
   "metadata": {},
   "outputs": [
    {
     "data": {
      "text/plain": [
       "dtype: int\n",
       "Rows: 1401260\n",
       "[308259, 236293, 243780, 271442, 271442, 308259, 271442, 271442, 297970, 291729, 222188, 271442, 271442, 272108, 271442, 287903, 271442, 308259, 287903, 310962, 296658, 287903, 310962, 287903, 113890, 295965, 287903, 287903, 282708, 283212, 310962, 310962, 310962, 310962, 296321, 308259, 163199, 272749, 310962, 272749, 288653, 272749, 310962, 310962, 310962, 310962, 310962, 310962, 310962, 310962, 310962, 287818, 287818, 287818, 287818, 287818, 287818, 287818, 220430, 301319, 220430, 275158, 292197, 151151, 301319, 220430, 309330, 310052, 222188, 275158, 304413, 225600, 296658, 287818, 304413, 222188, 310962, 310962, 15158, 264239, 283212, 310962, 310962, 310962, 121937, 310962, 310962, 15158, 310962, 140391, 279371, 310962, 279371, 279371, 140391, 310962, 140391, 140391, 140391, 270019, ... ]"
      ]
     },
     "execution_count": 70,
     "metadata": {},
     "output_type": "execute_result"
    }
   ],
   "source": [
    "tc_train['authorid']"
   ]
  },
  {
   "cell_type": "code",
   "execution_count": 73,
   "metadata": {},
   "outputs": [],
   "source": [
    "arr = tc_train[tc_train['authorid'] == 248409]['problemid']"
   ]
  },
  {
   "cell_type": "code",
   "execution_count": 78,
   "metadata": {},
   "outputs": [],
   "source": [
    "class ComplexityModel:\n",
    "  def __init__(self, complexities, train):\n",
    "    self._compls = complexities\n",
    "    self._train = train\n",
    "    \n",
    "  def recommend_user(self, userid, k=10):\n",
    "    return self.recommend_problems(self._train[self._train['authorid'] == userid]['problemid'].to_numpy(), k=k)\n",
    "  \n",
    "  def recommend_problems(self, problems, k=10):\n",
    "    solved = set(problems)\n",
    "    result = []\n",
    "    for row_item in self._compls.iterrows():\n",
    "      id_, row = row_item\n",
    "      if row.problemid not in solved:\n",
    "        result.append(row.problemid)\n",
    "        if len(result) >= k:\n",
    "          break\n",
    "    return result"
   ]
  },
  {
   "cell_type": "code",
   "execution_count": 79,
   "metadata": {},
   "outputs": [],
   "source": [
    "easy_model = ComplexityModel(complexities, tc_train)"
   ]
  },
  {
   "cell_type": "code",
   "execution_count": 83,
   "metadata": {},
   "outputs": [],
   "source": [
    "model.save('model')"
   ]
  },
  {
   "cell_type": "code",
   "execution_count": 88,
   "metadata": {},
   "outputs": [
    {
     "data": {
      "text/html": [
       "<div style=\"max-height:1000px;max-width:1500px;overflow:auto;\"><table frame=\"box\" rules=\"cols\">\n",
       "    <tr>\n",
       "        <th style=\"padding-left: 1em; padding-right: 1em; text-align: center\">problemid</th>\n",
       "        <th style=\"padding-left: 1em; padding-right: 1em; text-align: center\">score</th>\n",
       "        <th style=\"padding-left: 1em; padding-right: 1em; text-align: center\">rank</th>\n",
       "    </tr>\n",
       "    <tr>\n",
       "        <td style=\"padding-left: 1em; padding-right: 1em; text-align: center; vertical-align: top\">1082</td>\n",
       "        <td style=\"padding-left: 1em; padding-right: 1em; text-align: center; vertical-align: top\">0.14300597172517043</td>\n",
       "        <td style=\"padding-left: 1em; padding-right: 1em; text-align: center; vertical-align: top\">1</td>\n",
       "    </tr>\n",
       "    <tr>\n",
       "        <td style=\"padding-left: 1em; padding-right: 1em; text-align: center; vertical-align: top\">1084</td>\n",
       "        <td style=\"padding-left: 1em; padding-right: 1em; text-align: center; vertical-align: top\">0.14250278434692285</td>\n",
       "        <td style=\"padding-left: 1em; padding-right: 1em; text-align: center; vertical-align: top\">2</td>\n",
       "    </tr>\n",
       "    <tr>\n",
       "        <td style=\"padding-left: 1em; padding-right: 1em; text-align: center; vertical-align: top\">1740</td>\n",
       "        <td style=\"padding-left: 1em; padding-right: 1em; text-align: center; vertical-align: top\">0.10978048428511009</td>\n",
       "        <td style=\"padding-left: 1em; padding-right: 1em; text-align: center; vertical-align: top\">3</td>\n",
       "    </tr>\n",
       "    <tr>\n",
       "        <td style=\"padding-left: 1em; padding-right: 1em; text-align: center; vertical-align: top\">1192</td>\n",
       "        <td style=\"padding-left: 1em; padding-right: 1em; text-align: center; vertical-align: top\">0.09930944175292285</td>\n",
       "        <td style=\"padding-left: 1em; padding-right: 1em; text-align: center; vertical-align: top\">4</td>\n",
       "    </tr>\n",
       "    <tr>\n",
       "        <td style=\"padding-left: 1em; padding-right: 1em; text-align: center; vertical-align: top\">1353</td>\n",
       "        <td style=\"padding-left: 1em; padding-right: 1em; text-align: center; vertical-align: top\">0.09249867575290875</td>\n",
       "        <td style=\"padding-left: 1em; padding-right: 1em; text-align: center; vertical-align: top\">5</td>\n",
       "    </tr>\n",
       "    <tr>\n",
       "        <td style=\"padding-left: 1em; padding-right: 1em; text-align: center; vertical-align: top\">1864</td>\n",
       "        <td style=\"padding-left: 1em; padding-right: 1em; text-align: center; vertical-align: top\">0.0889982554392937</td>\n",
       "        <td style=\"padding-left: 1em; padding-right: 1em; text-align: center; vertical-align: top\">6</td>\n",
       "    </tr>\n",
       "    <tr>\n",
       "        <td style=\"padding-left: 1em; padding-right: 1em; text-align: center; vertical-align: top\">1012</td>\n",
       "        <td style=\"padding-left: 1em; padding-right: 1em; text-align: center; vertical-align: top\">0.08504603726741596</td>\n",
       "        <td style=\"padding-left: 1em; padding-right: 1em; text-align: center; vertical-align: top\">7</td>\n",
       "    </tr>\n",
       "    <tr>\n",
       "        <td style=\"padding-left: 1em; padding-right: 1em; text-align: center; vertical-align: top\">1572</td>\n",
       "        <td style=\"padding-left: 1em; padding-right: 1em; text-align: center; vertical-align: top\">0.08463931924257523</td>\n",
       "        <td style=\"padding-left: 1em; padding-right: 1em; text-align: center; vertical-align: top\">8</td>\n",
       "    </tr>\n",
       "    <tr>\n",
       "        <td style=\"padding-left: 1em; padding-right: 1em; text-align: center; vertical-align: top\">2000</td>\n",
       "        <td style=\"padding-left: 1em; padding-right: 1em; text-align: center; vertical-align: top\">0.08374470243087181</td>\n",
       "        <td style=\"padding-left: 1em; padding-right: 1em; text-align: center; vertical-align: top\">9</td>\n",
       "    </tr>\n",
       "    <tr>\n",
       "        <td style=\"padding-left: 1em; padding-right: 1em; text-align: center; vertical-align: top\">1017</td>\n",
       "        <td style=\"padding-left: 1em; padding-right: 1em; text-align: center; vertical-align: top\">0.08230161781494434</td>\n",
       "        <td style=\"padding-left: 1em; padding-right: 1em; text-align: center; vertical-align: top\">10</td>\n",
       "    </tr>\n",
       "</table>\n",
       "[10 rows x 3 columns]<br/>\n",
       "</div>"
      ],
      "text/plain": [
       "Columns:\n",
       "\tproblemid\tint\n",
       "\tscore\tfloat\n",
       "\trank\tint\n",
       "\n",
       "Rows: 10\n",
       "\n",
       "Data:\n",
       "+-----------+---------------------+------+\n",
       "| problemid |        score        | rank |\n",
       "+-----------+---------------------+------+\n",
       "|    1082   | 0.14300597172517043 |  1   |\n",
       "|    1084   | 0.14250278434692285 |  2   |\n",
       "|    1740   | 0.10978048428511009 |  3   |\n",
       "|    1192   | 0.09930944175292285 |  4   |\n",
       "|    1353   | 0.09249867575290875 |  5   |\n",
       "|    1864   |  0.0889982554392937 |  6   |\n",
       "|    1012   | 0.08504603726741596 |  7   |\n",
       "|    1572   | 0.08463931924257523 |  8   |\n",
       "|    2000   | 0.08374470243087181 |  9   |\n",
       "|    1017   | 0.08230161781494434 |  10  |\n",
       "+-----------+---------------------+------+\n",
       "[10 rows x 3 columns]"
      ]
     },
     "execution_count": 88,
     "metadata": {},
     "output_type": "execute_result"
    }
   ],
   "source": [
    "model.recommend_from_interactions(tc_train[tc_train['authorid'] == 248409]['problemid'])"
   ]
  },
  {
   "cell_type": "code",
   "execution_count": 98,
   "metadata": {},
   "outputs": [
    {
     "data": {
      "text/html": [
       "<div style=\"max-height:1000px;max-width:1500px;overflow:auto;\"><table frame=\"box\" rules=\"cols\">\n",
       "    <tr>\n",
       "        <th style=\"padding-left: 1em; padding-right: 1em; text-align: center\">authorid</th>\n",
       "        <th style=\"padding-left: 1em; padding-right: 1em; text-align: center\">problemid</th>\n",
       "        <th style=\"padding-left: 1em; padding-right: 1em; text-align: center\">score</th>\n",
       "        <th style=\"padding-left: 1em; padding-right: 1em; text-align: center\">rank</th>\n",
       "    </tr>\n",
       "    <tr>\n",
       "        <td style=\"padding-left: 1em; padding-right: 1em; text-align: center; vertical-align: top\">248409</td>\n",
       "        <td style=\"padding-left: 1em; padding-right: 1em; text-align: center; vertical-align: top\">1949</td>\n",
       "        <td style=\"padding-left: 1em; padding-right: 1em; text-align: center; vertical-align: top\">0.0</td>\n",
       "        <td style=\"padding-left: 1em; padding-right: 1em; text-align: center; vertical-align: top\">983</td>\n",
       "    </tr>\n",
       "    <tr>\n",
       "        <td style=\"padding-left: 1em; padding-right: 1em; text-align: center; vertical-align: top\">248409</td>\n",
       "        <td style=\"padding-left: 1em; padding-right: 1em; text-align: center; vertical-align: top\">1169</td>\n",
       "        <td style=\"padding-left: 1em; padding-right: 1em; text-align: center; vertical-align: top\">0.0</td>\n",
       "        <td style=\"padding-left: 1em; padding-right: 1em; text-align: center; vertical-align: top\">984</td>\n",
       "    </tr>\n",
       "    <tr>\n",
       "        <td style=\"padding-left: 1em; padding-right: 1em; text-align: center; vertical-align: top\">248409</td>\n",
       "        <td style=\"padding-left: 1em; padding-right: 1em; text-align: center; vertical-align: top\">1622</td>\n",
       "        <td style=\"padding-left: 1em; padding-right: 1em; text-align: center; vertical-align: top\">0.0</td>\n",
       "        <td style=\"padding-left: 1em; padding-right: 1em; text-align: center; vertical-align: top\">985</td>\n",
       "    </tr>\n",
       "    <tr>\n",
       "        <td style=\"padding-left: 1em; padding-right: 1em; text-align: center; vertical-align: top\">248409</td>\n",
       "        <td style=\"padding-left: 1em; padding-right: 1em; text-align: center; vertical-align: top\">1396</td>\n",
       "        <td style=\"padding-left: 1em; padding-right: 1em; text-align: center; vertical-align: top\">0.0</td>\n",
       "        <td style=\"padding-left: 1em; padding-right: 1em; text-align: center; vertical-align: top\">986</td>\n",
       "    </tr>\n",
       "    <tr>\n",
       "        <td style=\"padding-left: 1em; padding-right: 1em; text-align: center; vertical-align: top\">248409</td>\n",
       "        <td style=\"padding-left: 1em; padding-right: 1em; text-align: center; vertical-align: top\">1398</td>\n",
       "        <td style=\"padding-left: 1em; padding-right: 1em; text-align: center; vertical-align: top\">0.0</td>\n",
       "        <td style=\"padding-left: 1em; padding-right: 1em; text-align: center; vertical-align: top\">987</td>\n",
       "    </tr>\n",
       "    <tr>\n",
       "        <td style=\"padding-left: 1em; padding-right: 1em; text-align: center; vertical-align: top\">248409</td>\n",
       "        <td style=\"padding-left: 1em; padding-right: 1em; text-align: center; vertical-align: top\">1550</td>\n",
       "        <td style=\"padding-left: 1em; padding-right: 1em; text-align: center; vertical-align: top\">0.0</td>\n",
       "        <td style=\"padding-left: 1em; padding-right: 1em; text-align: center; vertical-align: top\">988</td>\n",
       "    </tr>\n",
       "    <tr>\n",
       "        <td style=\"padding-left: 1em; padding-right: 1em; text-align: center; vertical-align: top\">248409</td>\n",
       "        <td style=\"padding-left: 1em; padding-right: 1em; text-align: center; vertical-align: top\">1375</td>\n",
       "        <td style=\"padding-left: 1em; padding-right: 1em; text-align: center; vertical-align: top\">0.0</td>\n",
       "        <td style=\"padding-left: 1em; padding-right: 1em; text-align: center; vertical-align: top\">989</td>\n",
       "    </tr>\n",
       "    <tr>\n",
       "        <td style=\"padding-left: 1em; padding-right: 1em; text-align: center; vertical-align: top\">248409</td>\n",
       "        <td style=\"padding-left: 1em; padding-right: 1em; text-align: center; vertical-align: top\">1621</td>\n",
       "        <td style=\"padding-left: 1em; padding-right: 1em; text-align: center; vertical-align: top\">0.0</td>\n",
       "        <td style=\"padding-left: 1em; padding-right: 1em; text-align: center; vertical-align: top\">990</td>\n",
       "    </tr>\n",
       "    <tr>\n",
       "        <td style=\"padding-left: 1em; padding-right: 1em; text-align: center; vertical-align: top\">248409</td>\n",
       "        <td style=\"padding-left: 1em; padding-right: 1em; text-align: center; vertical-align: top\">1759</td>\n",
       "        <td style=\"padding-left: 1em; padding-right: 1em; text-align: center; vertical-align: top\">0.0</td>\n",
       "        <td style=\"padding-left: 1em; padding-right: 1em; text-align: center; vertical-align: top\">991</td>\n",
       "    </tr>\n",
       "    <tr>\n",
       "        <td style=\"padding-left: 1em; padding-right: 1em; text-align: center; vertical-align: top\">248409</td>\n",
       "        <td style=\"padding-left: 1em; padding-right: 1em; text-align: center; vertical-align: top\">1314</td>\n",
       "        <td style=\"padding-left: 1em; padding-right: 1em; text-align: center; vertical-align: top\">0.0</td>\n",
       "        <td style=\"padding-left: 1em; padding-right: 1em; text-align: center; vertical-align: top\">992</td>\n",
       "    </tr>\n",
       "</table>\n",
       "[10 rows x 4 columns]<br/>\n",
       "</div>"
      ],
      "text/plain": [
       "Columns:\n",
       "\tauthorid\tint\n",
       "\tproblemid\tint\n",
       "\tscore\tfloat\n",
       "\trank\tint\n",
       "\n",
       "Rows: 10\n",
       "\n",
       "Data:\n",
       "+----------+-----------+-------+------+\n",
       "| authorid | problemid | score | rank |\n",
       "+----------+-----------+-------+------+\n",
       "|  248409  |    1949   |  0.0  | 983  |\n",
       "|  248409  |    1169   |  0.0  | 984  |\n",
       "|  248409  |    1622   |  0.0  | 985  |\n",
       "|  248409  |    1396   |  0.0  | 986  |\n",
       "|  248409  |    1398   |  0.0  | 987  |\n",
       "|  248409  |    1550   |  0.0  | 988  |\n",
       "|  248409  |    1375   |  0.0  | 989  |\n",
       "|  248409  |    1621   |  0.0  | 990  |\n",
       "|  248409  |    1759   |  0.0  | 991  |\n",
       "|  248409  |    1314   |  0.0  | 992  |\n",
       "+----------+-----------+-------+------+\n",
       "[10 rows x 4 columns]"
      ]
     },
     "execution_count": 98,
     "metadata": {},
     "output_type": "execute_result"
    }
   ],
   "source": [
    "model.recommend(users=[248409], k=1000).tail()"
   ]
  },
  {
   "cell_type": "code",
   "execution_count": 100,
   "metadata": {},
   "outputs": [],
   "source": [
    "NASTYA = 248409"
   ]
  },
  {
   "cell_type": "code",
   "execution_count": 244,
   "metadata": {},
   "outputs": [],
   "source": [
    "subs = interesting_submits[interesting_submits['authorid'] == NASTYA]"
   ]
  },
  {
   "cell_type": "code",
   "execution_count": 258,
   "metadata": {},
   "outputs": [],
   "source": [
    "n_test_subs = subs.problemid[:10][::-1]\n"
   ]
  },
  {
   "cell_type": "code",
   "execution_count": 246,
   "metadata": {},
   "outputs": [],
   "source": [
    "n_val_subs = subs.problemid[10:]"
   ]
  },
  {
   "cell_type": "code",
   "execution_count": 247,
   "metadata": {},
   "outputs": [],
   "source": [
    "model_recs = model.recommend_from_interactions(n_val_subs.to_list(), k=10)"
   ]
  },
  {
   "cell_type": "code",
   "execution_count": 182,
   "metadata": {},
   "outputs": [],
   "source": [
    "model2_recs = model2.recommend_from_interactions(tc.SFrame(subs[10:])['submitid', 'problemid'], k=10)"
   ]
  },
  {
   "cell_type": "code",
   "execution_count": 248,
   "metadata": {},
   "outputs": [],
   "source": [
    "easy_recs = easy_model.recommend_problems(n_val_subs, k=10)"
   ]
  },
  {
   "cell_type": "code",
   "execution_count": 176,
   "metadata": {},
   "outputs": [],
   "source": [
    "def compute_apk(y_true, y_pred, k=10):\n",
    "    \"\"\"\n",
    "    average precision at k, y_pred is assumed \n",
    "    to be truncated to length k prior to feeding\n",
    "    it to the function\n",
    "    \"\"\"\n",
    "    # convert to set since membership \n",
    "    # testing in a set is vastly faster\n",
    "    actual = set(y_true)\n",
    "    \n",
    "    # precision at i is a percentage of correct \n",
    "    # items among first i recommendations; the\n",
    "    # correct count will be summed up by n_hit\n",
    "    n_hit = 0\n",
    "    precision = 0\n",
    "    for i, p in enumerate(y_pred, 1):\n",
    "        if p in actual:\n",
    "            n_hit += 1\n",
    "            precision += n_hit / i\n",
    "\n",
    "    # divide by recall at the very end\n",
    "    avg_precision = precision / min(len(actual), k)\n",
    "    return avg_precision"
   ]
  },
  {
   "cell_type": "code",
   "execution_count": 260,
   "metadata": {},
   "outputs": [
    {
     "data": {
      "text/plain": [
       "0.5666666666666667"
      ]
     },
     "execution_count": 260,
     "metadata": {},
     "output_type": "execute_result"
    }
   ],
   "source": [
    "compute_apk(n_test_subs, model_recs['problemid'].to_numpy())"
   ]
  },
  {
   "cell_type": "code",
   "execution_count": 183,
   "metadata": {},
   "outputs": [
    {
     "data": {
      "text/plain": [
       "0.12222222222222223"
      ]
     },
     "execution_count": 183,
     "metadata": {},
     "output_type": "execute_result"
    }
   ],
   "source": [
    "compute_apk(test_subs, model2_recs['problemid'].to_numpy())"
   ]
  },
  {
   "cell_type": "code",
   "execution_count": 261,
   "metadata": {},
   "outputs": [
    {
     "data": {
      "text/plain": [
       "0.6366666666666667"
      ]
     },
     "execution_count": 261,
     "metadata": {},
     "output_type": "execute_result"
    }
   ],
   "source": [
    "compute_apk(n_test_subs, easy_recs)"
   ]
  },
  {
   "cell_type": "code",
   "execution_count": 262,
   "metadata": {},
   "outputs": [],
   "source": [
    "from tqdm import trange"
   ]
  },
  {
   "cell_type": "code",
   "execution_count": 265,
   "metadata": {},
   "outputs": [
    {
     "name": "stderr",
     "output_type": "stream",
     "text": [
      "100%|██████████| 6782/6782 [03:27<00:00, 32.65it/s]\n"
     ]
    }
   ],
   "source": [
    "mapk = 0\n",
    "for i in trange(len(test_users)):\n",
    "  user = test_users[i]\n",
    "  user_subs = test_subs[test_subs.authorid == user].problemid\n",
    "  user_train_subs = train_subs[train_subs.authorid == user].problemid\n",
    "  model_recs = model.recommend_from_interactions(user_train_subs.to_list(), k=10)\n",
    "  mapk += compute_apk(user_subs, model_recs['problemid'].to_numpy())\n",
    "mapk /= len(test_users)"
   ]
  },
  {
   "cell_type": "code",
   "execution_count": 313,
   "metadata": {},
   "outputs": [
    {
     "name": "stderr",
     "output_type": "stream",
     "text": [
      "100%|██████████| 6782/6782 [03:35<00:00, 31.50it/s]\n"
     ]
    }
   ],
   "source": [
    "mapk = 0\n",
    "for i in trange(len(test_users)):\n",
    "  user = test_users[i]\n",
    "  user_subs = test_subs[test_subs.authorid == user].problemid\n",
    "  user_train_subs = train_subs[train_subs.authorid == user]\n",
    "  model_recs = model2.recommend_from_interactions(tc.SFrame(user_train_subs), k=10)\n",
    "  mapk += compute_apk(user_subs, model_recs['problemid'].to_numpy())\n",
    "mapk /= len(test_users)"
   ]
  },
  {
   "cell_type": "code",
   "execution_count": 314,
   "metadata": {},
   "outputs": [
    {
     "data": {
      "text/plain": [
       "0.14885138883037666"
      ]
     },
     "execution_count": 314,
     "metadata": {},
     "output_type": "execute_result"
    }
   ],
   "source": [
    "mapk"
   ]
  },
  {
   "cell_type": "code",
   "execution_count": 315,
   "metadata": {},
   "outputs": [
    {
     "name": "stderr",
     "output_type": "stream",
     "text": [
      "100%|██████████| 6782/6782 [00:38<00:00, 174.90it/s]\n"
     ]
    }
   ],
   "source": [
    "mapk = 0\n",
    "for i in trange(len(test_users)):\n",
    "  user = test_users[i]\n",
    "  user_subs = test_subs[test_subs.authorid == user].problemid\n",
    "  user_train_subs = train_subs[train_subs.authorid == user].problemid\n",
    "  model_recs = easy_model.recommend_problems(user_train_subs.to_list(), k=10)\n",
    "  mapk += compute_apk(user_subs, model_recs)\n",
    "mapk /= len(test_users)"
   ]
  },
  {
   "cell_type": "code",
   "execution_count": 316,
   "metadata": {},
   "outputs": [
    {
     "data": {
      "text/plain": [
       "0.10099861093557606"
      ]
     },
     "execution_count": 316,
     "metadata": {},
     "output_type": "execute_result"
    }
   ],
   "source": [
    "mapk"
   ]
  },
  {
   "cell_type": "code",
   "execution_count": 317,
   "metadata": {},
   "outputs": [],
   "source": [
    "model2.save('prod_model')"
   ]
  },
  {
   "cell_type": "code",
   "execution_count": 319,
   "metadata": {},
   "outputs": [
    {
     "name": "stdout",
     "output_type": "stream",
     "text": [
      "11M\tprod_model/\n"
     ]
    }
   ],
   "source": [
    "!du -hs prod_model/"
   ]
  },
  {
   "cell_type": "code",
   "execution_count": 321,
   "metadata": {},
   "outputs": [
    {
     "data": {
      "text/plain": [
       "\u001b[0;31mInit signature:\u001b[0m \u001b[0mtc\u001b[0m\u001b[0;34m.\u001b[0m\u001b[0mSFrame\u001b[0m\u001b[0;34m(\u001b[0m\u001b[0mdata\u001b[0m\u001b[0;34m=\u001b[0m\u001b[0;32mNone\u001b[0m\u001b[0;34m,\u001b[0m \u001b[0mformat\u001b[0m\u001b[0;34m=\u001b[0m\u001b[0;34m'auto'\u001b[0m\u001b[0;34m,\u001b[0m \u001b[0m_proxy\u001b[0m\u001b[0;34m=\u001b[0m\u001b[0;32mNone\u001b[0m\u001b[0;34m)\u001b[0m\u001b[0;34m\u001b[0m\u001b[0;34m\u001b[0m\u001b[0m\n",
       "\u001b[0;31mDocstring:\u001b[0m     \n",
       "SFrame means scalable data frame. A tabular, column-mutable dataframe object that can\n",
       "scale to big data. The data in SFrame is stored column-wise, and is\n",
       "stored on persistent storage (e.g. disk) to avoid being constrained by\n",
       "memory size.  Each column in an SFrame is a size-immutable\n",
       ":class:`~turicreate.SArray`, but SFrames are mutable in that columns can be\n",
       "added and subtracted with ease.  An SFrame essentially acts as an ordered\n",
       "dict of SArrays.\n",
       "\n",
       "Currently, we support constructing an SFrame from the following data\n",
       "formats:\n",
       "\n",
       "* csv file (comma separated value)\n",
       "* sframe directory archive (A directory where an sframe was saved\n",
       "  previously)\n",
       "* general text file (with csv parsing options, See :py:meth:`read_csv()`)\n",
       "* a Python dictionary\n",
       "* pandas.DataFrame\n",
       "* JSON\n",
       "\n",
       "and from the following sources:\n",
       "\n",
       "* your local file system\n",
       "* a network file system mounted locally\n",
       "* HDFS\n",
       "* Amazon S3\n",
       "* HTTP(S).\n",
       "\n",
       "Only basic examples of construction are covered here. For more information\n",
       "and examples, please see the `User Guide <https://apple.github.io/turicreate/docs/user\n",
       "guide/index.html#Working_with_data_Tabular_data>`_.\n",
       "\n",
       "Parameters\n",
       "----------\n",
       "data : array | pandas.DataFrame | string | dict, optional\n",
       "    The actual interpretation of this field is dependent on the ``format``\n",
       "    parameter. If ``data`` is an array or Pandas DataFrame, the contents are\n",
       "    stored in the SFrame. If ``data`` is a string, it is interpreted as a\n",
       "    file. Files can be read from local file system or urls (local://,\n",
       "    hdfs://, s3://, http://).\n",
       "\n",
       "format : string, optional\n",
       "    Format of the data. The default, \"auto\" will automatically infer the\n",
       "    input data format. The inference rules are simple: If the data is an\n",
       "    array or a dataframe, it is associated with 'array' and 'dataframe'\n",
       "    respectively. If the data is a string, it is interpreted as a file, and\n",
       "    the file extension is used to infer the file format. The explicit\n",
       "    options are:\n",
       "\n",
       "    - \"auto\"\n",
       "    - \"array\"\n",
       "    - \"dict\"\n",
       "    - \"sarray\"\n",
       "    - \"dataframe\"\n",
       "    - \"csv\"\n",
       "    - \"tsv\"\n",
       "    - \"sframe\".\n",
       "\n",
       "See Also\n",
       "--------\n",
       "read_csv:\n",
       "    Create a new SFrame from a csv file. Preferred for text and CSV formats,\n",
       "    because it has a lot more options for controlling the parser.\n",
       "\n",
       "save : Save an SFrame for later use.\n",
       "\n",
       "Notes\n",
       "-----\n",
       "- When reading from HDFS on Linux we must guess the location of your java\n",
       "  installation. By default, we will use the location pointed to by the\n",
       "  JAVA_HOME environment variable.  If this is not set, we check many common\n",
       "  installation paths. You may use two environment variables to override\n",
       "  this behavior.  TURI_JAVA_HOME allows you to specify a specific java\n",
       "  installation and overrides JAVA_HOME.  TURI_LIBJVM_DIRECTORY\n",
       "  overrides all and expects the exact directory that your preferred\n",
       "  libjvm.so file is located.  Use this ONLY if you'd like to use a\n",
       "  non-standard JVM.\n",
       "\n",
       "Examples\n",
       "--------\n",
       "\n",
       ">>> import turicreate\n",
       ">>> from turicreate import SFrame\n",
       "\n",
       "**Construction**\n",
       "\n",
       "Construct an SFrame from a dataframe and transfers the dataframe object\n",
       "across the network.\n",
       "\n",
       ">>> df = pandas.DataFrame()\n",
       ">>> sf = SFrame(data=df)\n",
       "\n",
       "Construct an SFrame from a local csv file (only works for local server).\n",
       "\n",
       ">>> sf = SFrame(data='~/mydata/foo.csv')\n",
       "\n",
       "Construct an SFrame from a csv file on Amazon S3. This requires the\n",
       "environment variables: *AWS_ACCESS_KEY_ID* and *AWS_SECRET_ACCESS_KEY* to be\n",
       "set before the python session started.\n",
       "\n",
       ">>> sf = SFrame(data='s3://mybucket/foo.csv')\n",
       "\n",
       "Read from HDFS using a specific java installation (environment variable\n",
       "only applies when using Linux)\n",
       "\n",
       ">>> import os\n",
       ">>> os.environ['TURI_JAVA_HOME'] = '/my/path/to/java'\n",
       ">>> from turicreate import SFrame\n",
       ">>> sf = SFrame(\"hdfs://mycluster.example.com:8020/user/myname/coolfile.txt\")\n",
       "\n",
       "An SFrame can be constructed from a dictionary of values or SArrays:\n",
       "\n",
       ">>> sf = tc.SFrame({'id':[1,2,3],'val':['A','B','C']})\n",
       ">>> sf\n",
       "Columns:\n",
       "    id  int\n",
       "    val str\n",
       "Rows: 3\n",
       "Data:\n",
       "   id  val\n",
       "0  1   A\n",
       "1  2   B\n",
       "2  3   C\n",
       "\n",
       "Or equivalently:\n",
       "\n",
       ">>> ids = SArray([1,2,3])\n",
       ">>> vals = SArray(['A','B','C'])\n",
       ">>> sf = SFrame({'id':ids,'val':vals})\n",
       "\n",
       "It can also be constructed from an array of SArrays in which case column\n",
       "names are automatically assigned.\n",
       "\n",
       ">>> ids = SArray([1,2,3])\n",
       ">>> vals = SArray(['A','B','C'])\n",
       ">>> sf = SFrame([ids, vals])\n",
       ">>> sf\n",
       "Columns:\n",
       "    X1 int\n",
       "    X2 str\n",
       "Rows: 3\n",
       "Data:\n",
       "   X1  X2\n",
       "0  1   A\n",
       "1  2   B\n",
       "2  3   C\n",
       "\n",
       "If the SFrame is constructed from a list of values, an SFrame of a single\n",
       "column is constructed.\n",
       "\n",
       ">>> sf = SFrame([1,2,3])\n",
       ">>> sf\n",
       "Columns:\n",
       "    X1 int\n",
       "Rows: 3\n",
       "Data:\n",
       "   X1\n",
       "0  1\n",
       "1  2\n",
       "2  3\n",
       "\n",
       "**Parsing**\n",
       "\n",
       "The :py:func:`turicreate.SFrame.read_csv()` is quite powerful and, can be\n",
       "used to import a variety of row-based formats.\n",
       "\n",
       "First, some simple cases:\n",
       "\n",
       ">>> !cat ratings.csv\n",
       "user_id,movie_id,rating\n",
       "10210,1,1\n",
       "10213,2,5\n",
       "10217,2,2\n",
       "10102,1,3\n",
       "10109,3,4\n",
       "10117,5,2\n",
       "10122,2,4\n",
       "10114,1,5\n",
       "10125,1,1\n",
       ">>> tc.SFrame.read_csv('ratings.csv')\n",
       "Columns:\n",
       "  user_id   int\n",
       "  movie_id  int\n",
       "  rating    int\n",
       "Rows: 9\n",
       "Data:\n",
       "+---------+----------+--------+\n",
       "| user_id | movie_id | rating |\n",
       "+---------+----------+--------+\n",
       "|  10210  |    1     |   1    |\n",
       "|  10213  |    2     |   5    |\n",
       "|  10217  |    2     |   2    |\n",
       "|  10102  |    1     |   3    |\n",
       "|  10109  |    3     |   4    |\n",
       "|  10117  |    5     |   2    |\n",
       "|  10122  |    2     |   4    |\n",
       "|  10114  |    1     |   5    |\n",
       "|  10125  |    1     |   1    |\n",
       "+---------+----------+--------+\n",
       "[9 rows x 3 columns]\n",
       "\n",
       "\n",
       "Delimiters can be specified, if \",\" is not the delimiter, for instance\n",
       "space ' ' in this case. Only single character delimiters are supported.\n",
       "\n",
       ">>> !cat ratings.csv\n",
       "user_id movie_id rating\n",
       "10210 1 1\n",
       "10213 2 5\n",
       "10217 2 2\n",
       "10102 1 3\n",
       "10109 3 4\n",
       "10117 5 2\n",
       "10122 2 4\n",
       "10114 1 5\n",
       "10125 1 1\n",
       ">>> tc.SFrame.read_csv('ratings.csv', delimiter=' ')\n",
       "\n",
       "By default, \"NA\" or a missing element are interpreted as missing values.\n",
       "\n",
       ">>> !cat ratings2.csv\n",
       "user,movie,rating\n",
       "\"tom\",,1\n",
       "harry,5,\n",
       "jack,2,2\n",
       "bill,,\n",
       ">>> tc.SFrame.read_csv('ratings2.csv')\n",
       "Columns:\n",
       "  user  str\n",
       "  movie int\n",
       "  rating    int\n",
       "Rows: 4\n",
       "Data:\n",
       "+---------+-------+--------+\n",
       "|   user  | movie | rating |\n",
       "+---------+-------+--------+\n",
       "|   tom   |  None |   1    |\n",
       "|  harry  |   5   |  None  |\n",
       "|   jack  |   2   |   2    |\n",
       "| missing |  None |  None  |\n",
       "+---------+-------+--------+\n",
       "[4 rows x 3 columns]\n",
       "\n",
       "Furthermore due to the dictionary types and list types, can handle parsing\n",
       "of JSON-like formats.\n",
       "\n",
       ">>> !cat ratings3.csv\n",
       "business, categories, ratings\n",
       "\"Restaurant 1\", [1 4 9 10], {\"funny\":5, \"cool\":2}\n",
       "\"Restaurant 2\", [], {\"happy\":2, \"sad\":2}\n",
       "\"Restaurant 3\", [2, 11, 12], {}\n",
       ">>> tc.SFrame.read_csv('ratings3.csv')\n",
       "Columns:\n",
       "business    str\n",
       "categories  array\n",
       "ratings dict\n",
       "Rows: 3\n",
       "Data:\n",
       "+--------------+--------------------------------+-------------------------+\n",
       "|   business   |           categories           |         ratings         |\n",
       "+--------------+--------------------------------+-------------------------+\n",
       "| Restaurant 1 | array('d', [1.0, 4.0, 9.0, ... | {'funny': 5, 'cool': 2} |\n",
       "| Restaurant 2 |           array('d')           |  {'sad': 2, 'happy': 2} |\n",
       "| Restaurant 3 | array('d', [2.0, 11.0, 12.0])  |            {}           |\n",
       "+--------------+--------------------------------+-------------------------+\n",
       "[3 rows x 3 columns]\n",
       "\n",
       "The list and dictionary parsers are quite flexible and can absorb a\n",
       "variety of purely formatted inputs. Also, note that the list and dictionary\n",
       "types are recursive, allowing for arbitrary values to be contained.\n",
       "\n",
       "All these are valid lists:\n",
       "\n",
       ">>> !cat interesting_lists.csv\n",
       "list\n",
       "[]\n",
       "[1,2,3]\n",
       "[1;2,3]\n",
       "[1 2 3]\n",
       "[{a:b}]\n",
       "[\"c\",d, e]\n",
       "[[a]]\n",
       ">>> tc.SFrame.read_csv('interesting_lists.csv')\n",
       "Columns:\n",
       "  list  list\n",
       "Rows: 7\n",
       "Data:\n",
       "+-----------------+\n",
       "|       list      |\n",
       "+-----------------+\n",
       "|        []       |\n",
       "|    [1, 2, 3]    |\n",
       "|    [1, 2, 3]    |\n",
       "|    [1, 2, 3]    |\n",
       "|   [{'a': 'b'}]  |\n",
       "| ['c', 'd', 'e'] |\n",
       "|     [['a']]     |\n",
       "+-----------------+\n",
       "[7 rows x 1 columns]\n",
       "\n",
       "All these are valid dicts:\n",
       "\n",
       ">>> !cat interesting_dicts.csv\n",
       "dict\n",
       "{\"classic\":1,\"dict\":1}\n",
       "{space:1 separated:1}\n",
       "{emptyvalue:}\n",
       "{}\n",
       "{:}\n",
       "{recursive1:[{a:b}]}\n",
       "{:[{:[a]}]}\n",
       ">>> tc.SFrame.read_csv('interesting_dicts.csv')\n",
       "Columns:\n",
       "  dict  dict\n",
       "Rows: 7\n",
       "Data:\n",
       "+------------------------------+\n",
       "|             dict             |\n",
       "+------------------------------+\n",
       "|  {'dict': 1, 'classic': 1}   |\n",
       "| {'separated': 1, 'space': 1} |\n",
       "|     {'emptyvalue': None}     |\n",
       "|              {}              |\n",
       "|         {None: None}         |\n",
       "| {'recursive1': [{'a': 'b'}]} |\n",
       "| {None: [{None: array('d')}]} |\n",
       "+------------------------------+\n",
       "[7 rows x 1 columns]\n",
       "\n",
       "**Saving**\n",
       "\n",
       "Save and load the sframe in native format.\n",
       "\n",
       ">>> sf.save('mysframedir')\n",
       ">>> sf2 = turicreate.load_sframe('mysframedir')\n",
       "\n",
       "**Column Manipulation**\n",
       "\n",
       "An SFrame is composed of a collection of columns of SArrays, and individual\n",
       "SArrays can be extracted easily. For instance given an SFrame:\n",
       "\n",
       ">>> sf = SFrame({'id':[1,2,3],'val':['A','B','C']})\n",
       ">>> sf\n",
       "Columns:\n",
       "    id  int\n",
       "    val str\n",
       "Rows: 3\n",
       "Data:\n",
       "   id  val\n",
       "0  1   A\n",
       "1  2   B\n",
       "2  3   C\n",
       "\n",
       "The \"id\" column can be extracted using:\n",
       "\n",
       ">>> sf[\"id\"]\n",
       "dtype: int\n",
       "Rows: 3\n",
       "[1, 2, 3]\n",
       "\n",
       "And can be deleted using:\n",
       "\n",
       ">>> del sf[\"id\"]\n",
       "\n",
       "Multiple columns can be selected by passing a list of column names:\n",
       "\n",
       ">>> sf = SFrame({'id':[1,2,3],'val':['A','B','C'],'val2':[5,6,7]})\n",
       ">>> sf\n",
       "Columns:\n",
       "    id   int\n",
       "    val  str\n",
       "    val2 int\n",
       "Rows: 3\n",
       "Data:\n",
       "   id  val val2\n",
       "0  1   A   5\n",
       "1  2   B   6\n",
       "2  3   C   7\n",
       ">>> sf2 = sf[['id','val']]\n",
       ">>> sf2\n",
       "Columns:\n",
       "    id  int\n",
       "    val str\n",
       "Rows: 3\n",
       "Data:\n",
       "   id  val\n",
       "0  1   A\n",
       "1  2   B\n",
       "2  3   C\n",
       "\n",
       "You can also select columns using types or a list of types:\n",
       "\n",
       ">>> sf2 = sf[int]\n",
       ">>> sf2\n",
       "Columns:\n",
       "    id   int\n",
       "    val2 int\n",
       "Rows: 3\n",
       "Data:\n",
       "   id  val2\n",
       "0  1   5\n",
       "1  2   6\n",
       "2  3   7\n",
       "\n",
       "Or a mix of types and names:\n",
       "\n",
       ">>> sf2 = sf[['id', str]]\n",
       ">>> sf2\n",
       "Columns:\n",
       "    id  int\n",
       "    val str\n",
       "Rows: 3\n",
       "Data:\n",
       "   id  val\n",
       "0  1   A\n",
       "1  2   B\n",
       "2  3   C\n",
       "\n",
       "\n",
       "The same mechanism can be used to re-order columns:\n",
       "\n",
       ">>> sf = SFrame({'id':[1,2,3],'val':['A','B','C']})\n",
       ">>> sf\n",
       "Columns:\n",
       "    id  int\n",
       "    val str\n",
       "Rows: 3\n",
       "Data:\n",
       "   id  val\n",
       "0  1   A\n",
       "1  2   B\n",
       "2  3   C\n",
       ">>> sf[['val','id']]\n",
       ">>> sf\n",
       "Columns:\n",
       "    val str\n",
       "    id  int\n",
       "Rows: 3\n",
       "Data:\n",
       "   val id\n",
       "0  A   1\n",
       "1  B   2\n",
       "2  C   3\n",
       "\n",
       "**Element Access and Slicing**\n",
       "\n",
       "SFrames can be accessed by integer keys just like a regular python list.\n",
       "Such operations may not be fast on large datasets so looping over an SFrame\n",
       "should be avoided.\n",
       "\n",
       ">>> sf = SFrame({'id':[1,2,3],'val':['A','B','C']})\n",
       ">>> sf[0]\n",
       "{'id': 1, 'val': 'A'}\n",
       ">>> sf[2]\n",
       "{'id': 3, 'val': 'C'}\n",
       ">>> sf[5]\n",
       "IndexError: SFrame index out of range\n",
       "\n",
       "Negative indices can be used to access elements from the tail of the array\n",
       "\n",
       ">>> sf[-1] # returns the last element\n",
       "{'id': 3, 'val': 'C'}\n",
       ">>> sf[-2] # returns the second to last element\n",
       "{'id': 2, 'val': 'B'}\n",
       "\n",
       "The SFrame also supports the full range of python slicing operators:\n",
       "\n",
       ">>> sf[1000:] # Returns an SFrame containing rows 1000 to the end\n",
       ">>> sf[:1000] # Returns an SFrame containing rows 0 to row 999 inclusive\n",
       ">>> sf[0:1000:2] # Returns an SFrame containing rows 0 to row 1000 in steps of 2\n",
       ">>> sf[-100:] # Returns an SFrame containing last 100 rows\n",
       ">>> sf[-100:len(sf):2] # Returns an SFrame containing last 100 rows in steps of 2\n",
       "\n",
       "**Logical Filter**\n",
       "\n",
       "An SFrame can be filtered using\n",
       "\n",
       ">>> sframe[binary_filter]\n",
       "\n",
       "where sframe is an SFrame and binary_filter is an SArray of the same length.\n",
       "The result is a new SFrame which contains only rows of the SFrame where its\n",
       "matching row in the binary_filter is non zero.\n",
       "\n",
       "This permits the use of boolean operators that can be used to perform\n",
       "logical filtering operations. For instance, given an SFrame\n",
       "\n",
       ">>> sf\n",
       "Columns:\n",
       "    id  int\n",
       "    val str\n",
       "Rows: 3\n",
       "Data:\n",
       "   id  val\n",
       "0  1   A\n",
       "1  2   B\n",
       "2  3   C\n",
       "\n",
       ">>> sf[(sf['id'] >= 1) & (sf['id'] <= 2)]\n",
       "Columns:\n",
       "    id  int\n",
       "    val str\n",
       "Rows: 3\n",
       "Data:\n",
       "   id  val\n",
       "0  1   A\n",
       "1  2   B\n",
       "\n",
       "See :class:`~turicreate.SArray` for more details on the use of the logical\n",
       "filter.\n",
       "\n",
       "This can also be used more generally to provide filtering capability which\n",
       "is otherwise not expressible with simple boolean functions. For instance:\n",
       "\n",
       ">>> sf[sf['id'].apply(lambda x: math.log(x) <= 1)]\n",
       "Columns:\n",
       "    id  int\n",
       "    val str\n",
       "Rows: 3\n",
       "Data:\n",
       "   id  val\n",
       "0  1   A\n",
       "1  2   B\n",
       "\n",
       "Or alternatively:\n",
       "\n",
       ">>> sf[sf.apply(lambda x: math.log(x['id']) <= 1)]\n",
       "\n",
       "        Create an SFrame from a Python dictionary.\n",
       "\n",
       ">>> from turicreate import SFrame\n",
       ">>> sf = SFrame({'id':[1,2,3], 'val':['A','B','C']})\n",
       ">>> sf\n",
       "Columns:\n",
       "    id  int\n",
       "    val str\n",
       "Rows: 3\n",
       "Data:\n",
       "   id  val\n",
       "0  1   A\n",
       "1  2   B\n",
       "2  3   C\n",
       "\u001b[0;31mInit docstring:\u001b[0m\n",
       "__init__(data=list(), format='auto')\n",
       "Construct a new SFrame from a url or a pandas.DataFrame.\n",
       "\u001b[0;31mFile:\u001b[0m           ~/.local/lib/python3.6/site-packages/turicreate/data_structures/sframe.py\n",
       "\u001b[0;31mType:\u001b[0m           type\n",
       "\u001b[0;31mSubclasses:\u001b[0m     SFrame\n"
      ]
     },
     "metadata": {},
     "output_type": "display_data"
    }
   ],
   "source": [
    "tc.SFrame?"
   ]
  },
  {
   "cell_type": "code",
   "execution_count": 320,
   "metadata": {},
   "outputs": [
    {
     "data": {
      "text/plain": [
       "\u001b[0;31mSignature:\u001b[0m\n",
       "\u001b[0mtc\u001b[0m\u001b[0;34m.\u001b[0m\u001b[0mrecommender\u001b[0m\u001b[0;34m.\u001b[0m\u001b[0mfactorization_recommender\u001b[0m\u001b[0;34m.\u001b[0m\u001b[0mcreate\u001b[0m\u001b[0;34m(\u001b[0m\u001b[0;34m\u001b[0m\n",
       "\u001b[0;34m\u001b[0m    \u001b[0mobservation_data\u001b[0m\u001b[0;34m,\u001b[0m\u001b[0;34m\u001b[0m\n",
       "\u001b[0;34m\u001b[0m    \u001b[0muser_id\u001b[0m\u001b[0;34m=\u001b[0m\u001b[0;34m'user_id'\u001b[0m\u001b[0;34m,\u001b[0m\u001b[0;34m\u001b[0m\n",
       "\u001b[0;34m\u001b[0m    \u001b[0mitem_id\u001b[0m\u001b[0;34m=\u001b[0m\u001b[0;34m'item_id'\u001b[0m\u001b[0;34m,\u001b[0m\u001b[0;34m\u001b[0m\n",
       "\u001b[0;34m\u001b[0m    \u001b[0mtarget\u001b[0m\u001b[0;34m=\u001b[0m\u001b[0;32mNone\u001b[0m\u001b[0;34m,\u001b[0m\u001b[0;34m\u001b[0m\n",
       "\u001b[0;34m\u001b[0m    \u001b[0muser_data\u001b[0m\u001b[0;34m=\u001b[0m\u001b[0;32mNone\u001b[0m\u001b[0;34m,\u001b[0m\u001b[0;34m\u001b[0m\n",
       "\u001b[0;34m\u001b[0m    \u001b[0mitem_data\u001b[0m\u001b[0;34m=\u001b[0m\u001b[0;32mNone\u001b[0m\u001b[0;34m,\u001b[0m\u001b[0;34m\u001b[0m\n",
       "\u001b[0;34m\u001b[0m    \u001b[0mnum_factors\u001b[0m\u001b[0;34m=\u001b[0m\u001b[0;36m8\u001b[0m\u001b[0;34m,\u001b[0m\u001b[0;34m\u001b[0m\n",
       "\u001b[0;34m\u001b[0m    \u001b[0mregularization\u001b[0m\u001b[0;34m=\u001b[0m\u001b[0;36m1e-08\u001b[0m\u001b[0;34m,\u001b[0m\u001b[0;34m\u001b[0m\n",
       "\u001b[0;34m\u001b[0m    \u001b[0mlinear_regularization\u001b[0m\u001b[0;34m=\u001b[0m\u001b[0;36m1e-10\u001b[0m\u001b[0;34m,\u001b[0m\u001b[0;34m\u001b[0m\n",
       "\u001b[0;34m\u001b[0m    \u001b[0mside_data_factorization\u001b[0m\u001b[0;34m=\u001b[0m\u001b[0;32mTrue\u001b[0m\u001b[0;34m,\u001b[0m\u001b[0;34m\u001b[0m\n",
       "\u001b[0;34m\u001b[0m    \u001b[0mnmf\u001b[0m\u001b[0;34m=\u001b[0m\u001b[0;32mFalse\u001b[0m\u001b[0;34m,\u001b[0m\u001b[0;34m\u001b[0m\n",
       "\u001b[0;34m\u001b[0m    \u001b[0mbinary_target\u001b[0m\u001b[0;34m=\u001b[0m\u001b[0;32mFalse\u001b[0m\u001b[0;34m,\u001b[0m\u001b[0;34m\u001b[0m\n",
       "\u001b[0;34m\u001b[0m    \u001b[0mmax_iterations\u001b[0m\u001b[0;34m=\u001b[0m\u001b[0;36m50\u001b[0m\u001b[0;34m,\u001b[0m\u001b[0;34m\u001b[0m\n",
       "\u001b[0;34m\u001b[0m    \u001b[0msgd_step_size\u001b[0m\u001b[0;34m=\u001b[0m\u001b[0;36m0\u001b[0m\u001b[0;34m,\u001b[0m\u001b[0;34m\u001b[0m\n",
       "\u001b[0;34m\u001b[0m    \u001b[0mrandom_seed\u001b[0m\u001b[0;34m=\u001b[0m\u001b[0;36m0\u001b[0m\u001b[0;34m,\u001b[0m\u001b[0;34m\u001b[0m\n",
       "\u001b[0;34m\u001b[0m    \u001b[0msolver\u001b[0m\u001b[0;34m=\u001b[0m\u001b[0;34m'auto'\u001b[0m\u001b[0;34m,\u001b[0m\u001b[0;34m\u001b[0m\n",
       "\u001b[0;34m\u001b[0m    \u001b[0mverbose\u001b[0m\u001b[0;34m=\u001b[0m\u001b[0;32mTrue\u001b[0m\u001b[0;34m,\u001b[0m\u001b[0;34m\u001b[0m\n",
       "\u001b[0;34m\u001b[0m    \u001b[0;34m**\u001b[0m\u001b[0mkwargs\u001b[0m\u001b[0;34m,\u001b[0m\u001b[0;34m\u001b[0m\n",
       "\u001b[0;34m\u001b[0m\u001b[0;34m)\u001b[0m\u001b[0;34m\u001b[0m\u001b[0;34m\u001b[0m\u001b[0m\n",
       "\u001b[0;31mDocstring:\u001b[0m\n",
       "Create a FactorizationRecommender that learns latent factors for each\n",
       "user and item and uses them to make rating predictions. This includes\n",
       "both standard matrix factorization as well as factorization machines models\n",
       "(in the situation where side data is available for users and/or items).\n",
       "\n",
       "Parameters\n",
       "----------\n",
       "observation_data : SFrame\n",
       "    The dataset to use for training the model. It must contain a column of\n",
       "    user ids and a column of item ids. Each row represents an observed\n",
       "    interaction between the user and the item.  The (user, item) pairs\n",
       "    are stored with the model so that they can later be excluded from\n",
       "    recommendations if desired. It can optionally contain a target ratings\n",
       "    column. All other columns are interpreted by the underlying model as\n",
       "    side features for the observations.\n",
       "\n",
       "    The user id and item id columns must be of type 'int' or 'str'. The\n",
       "    target column must be of type 'int' or 'float'.\n",
       "\n",
       "user_id : string, optional\n",
       "    The name of the column in `observation_data` that corresponds to the\n",
       "    user id.\n",
       "\n",
       "item_id : string, optional\n",
       "    The name of the column in `observation_data` that corresponds to the\n",
       "    item id.\n",
       "\n",
       "target : string\n",
       "    The `observation_data` must contain a column of scores\n",
       "    representing ratings given by the users. If not present,\n",
       "    consider using the ranking version of the factorization model,\n",
       "    RankingFactorizationRecommender,\n",
       "    :class:`turicreate.recommender.ranking_factorization_recommender.RankingFactorizationRecommender`\n",
       "\n",
       "user_data : SFrame, optional\n",
       "    Side information for the users.  This SFrame must have a column with\n",
       "    the same name as what is specified by the `user_id` input parameter.\n",
       "    `user_data` can provide any amount of additional user-specific\n",
       "    information.\n",
       "\n",
       "item_data : SFrame, optional\n",
       "    Side information for the items.  This SFrame must have a column with\n",
       "    the same name as what is specified by the `item_id` input parameter.\n",
       "    `item_data` can provide any amount of additional item-specific\n",
       "    information.\n",
       "\n",
       "num_factors : int, optional\n",
       "    Number of latent factors.\n",
       "\n",
       "regularization : float, optional\n",
       "    Regularization for interaction terms. The type of regularization is L2.\n",
       "    Default: 1e-8; a typical range for this parameter is between 1e-12 and 1.\n",
       "\n",
       "linear_regularization : float, optional\n",
       "    Regularization for linear term.\n",
       "    Default: 1e-10; a typical range for this parameter is between 1e-12 and 1.\n",
       "\n",
       "side_data_factorization : boolean, optional\n",
       "    Use factorization for modeling any additional features beyond the user\n",
       "    and item columns. If True, and side features or any additional columns are\n",
       "    present, then a Factorization Machine model is trained. Otherwise, only\n",
       "    the linear terms are fit to these features.  See\n",
       "    :class:`turicreate.recommender.factorization_recommender.FactorizationRecommender`\n",
       "    for more information. Default: True.\n",
       "\n",
       "nmf : boolean, optional\n",
       "    Use nonnegative matrix factorization, which forces the factors to be\n",
       "    nonnegative. Disables linear and intercept terms.\n",
       "\n",
       "binary_target : boolean, optional\n",
       "    Assume the target column is composed of 0's and 1's. If True, use\n",
       "    logistic loss to fit the model.\n",
       "\n",
       "max_iterations : int, optional\n",
       "    The training algorithm will make at most this many iterations through\n",
       "    the observed data. Default: 50.\n",
       "\n",
       "sgd_step_size : float, optional\n",
       "    Step size for stochastic gradient descent. Smaller values generally\n",
       "    lead to more accurate models that take more time to train. The\n",
       "    default setting of 0 means that the step size is chosen by trying\n",
       "    several options on a small subset of the data.\n",
       "\n",
       "random_seed :  int, optional\n",
       "    The random seed used to choose the initial starting point for\n",
       "    model training. Note that some randomness in the training is\n",
       "    unavoidable, so models trained with the same random seed may still\n",
       "    differ slightly. Default: 0.\n",
       "\n",
       "solver : string, optional\n",
       "    Name of the solver to be used to solve the regression. See the\n",
       "    references for more detail on each solver. The available solvers for this\n",
       "    model are:\n",
       "\n",
       "    - *auto (default)*: automatically chooses the best solver for the data\n",
       "                          and model parameters.\n",
       "    - *sgd*:            Stochastic Gradient Descent.\n",
       "    - *adagrad*:        Adaptive Gradient Stochastic Gradient Descent [1].\n",
       "    - *als*:            Alternating Least Squares.\n",
       "\n",
       "verbose : bool, optional\n",
       "    Enables verbose output.\n",
       "\n",
       "kwargs : optional\n",
       "    Optional advanced keyword arguments passed in to the model\n",
       "    optimization procedure. These parameters do not typically\n",
       "    need to be changed.\n",
       "\n",
       "Examples\n",
       "--------\n",
       "**Basic usage**\n",
       "\n",
       ">>> sf = turicreate.SFrame({'user_id': [\"0\", \"0\", \"0\", \"1\", \"1\", \"2\", \"2\", \"2\"],\n",
       "...                       'item_id': [\"a\", \"b\", \"c\", \"a\", \"b\", \"b\", \"c\", \"d\"],\n",
       "...                       'rating': [1, 3, 2, 5, 4, 1, 4, 3]})\n",
       ">>> m1 = turicreate.factorization_recommender.create(sf, target='rating')\n",
       "\n",
       "When a target column is present, :meth:`~turicreate.recommender.create`\n",
       "defaults to creating a :class:`~turicreate.recommender.factorization_recommender.FactorizationRecommender`.\n",
       "\n",
       "**Including side features**\n",
       "\n",
       ">>> user_info = turicreate.SFrame({'user_id': [\"0\", \"1\", \"2\"],\n",
       "...                              'name': [\"Alice\", \"Bob\", \"Charlie\"],\n",
       "...                              'numeric_feature': [0.1, 12, 22]})\n",
       ">>> item_info = turicreate.SFrame({'item_id': [\"a\", \"b\", \"c\", \"d\"],\n",
       "...                              'name': [\"item1\", \"item2\", \"item3\", \"item4\"],\n",
       "...                              'dict_feature': [{'a' : 23}, {'a' : 13},\n",
       "...                                               {'b' : 1},\n",
       "...                                               {'a' : 23, 'b' : 32}]})\n",
       ">>> m2 = turicreate.factorization_recommender.create(sf, target='rating',\n",
       "...                                                user_data=user_info,\n",
       "...                                                item_data=item_info)\n",
       "\n",
       "**Using the Alternating Least Squares (ALS) solver**\n",
       "\n",
       "The factorization model can also be solved using alternating least\n",
       "squares (ALS) as a solver option.  This solver does not support side\n",
       "columns or other similar features.\n",
       "\n",
       ">>> m3 = turicreate.factorization_recommender.create(sf, target='rating',\n",
       "                                                            solver = 'als')\n",
       "\n",
       "See Also\n",
       "--------\n",
       "RankingFactorizationRecommender,\n",
       ":class:`turicreate.recommender.ranking_factorization_recommender.RankingFactorizationRecommender`\n",
       "\n",
       "References\n",
       "-----------\n",
       "\n",
       "[1] Duchi, John, Elad Hazan, and Yoram Singer. \"Adaptive subgradient methods for online\n",
       "learning and stochastic optimization.\" The Journal of Machine Learning Research 12 (2011).\n",
       "\u001b[0;31mFile:\u001b[0m      ~/.local/lib/python3.6/site-packages/turicreate/toolkits/recommender/factorization_recommender.py\n",
       "\u001b[0;31mType:\u001b[0m      function\n"
      ]
     },
     "metadata": {},
     "output_type": "display_data"
    }
   ],
   "source": [
    "tc.load_model"
   ]
  },
  {
   "cell_type": "code",
   "execution_count": null,
   "metadata": {},
   "outputs": [],
   "source": []
  }
 ],
 "metadata": {
  "kernelspec": {
   "display_name": "Python 3",
   "language": "python",
   "name": "python3"
  },
  "language_info": {
   "codemirror_mode": {
    "name": "ipython",
    "version": 3
   },
   "file_extension": ".py",
   "mimetype": "text/x-python",
   "name": "python",
   "nbconvert_exporter": "python",
   "pygments_lexer": "ipython3",
   "version": "3.6.9"
  }
 },
 "nbformat": 4,
 "nbformat_minor": 4
}
